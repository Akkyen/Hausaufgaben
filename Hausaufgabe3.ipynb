{
 "cells": [
  {
   "cell_type": "markdown",
   "metadata": {},
   "source": [
    "<h2>Aufgabe 7:</h2>\n",
    "\n",
    "Die Zahl der Knoten die in $d$ Schritten vom zentralen Knoten eines Cayley-Baums, mit $k$ verbundenen Knoten, erreicht werden können ist genau der Formel $\\sum_{d=1}^\\inf k(k-1)^{d-1}$ für $d \\geq 1$.\n",
    "\n",
    "Anzahl erreichbarer Knoten in $d = 1$ ; $\\sum_{d=1}^1 k(k-1)^{d-1}$ für $k = 3$ <br>\n",
    "... = $3(3-1)^{1-1}$ <br>\n",
    "... = $3*(2)^0$ <br>\n",
    "... = $3*1$ <br>\n",
    "... = $3$ <br>\n",
    "\n",
    "![image](./images/Caley-Tree-d1.png)\n",
    "\n",
    "$3=3$ ist eine wahre Aussage.\n",
    "\n",
    "<h4>Für d + 1</h4>\n",
    "Anzahl erreichbarer Knoten in $d+1$ Schritten = $\\sum_{d=1}^2 k(k-1)^{d-1}$ <br>\n",
    "Anzahl erreichbarer Knoten in $d$ Schritten + $k(k-1)^{(d+1)-1}$ = $\\sum_{d=1}^2 k(k-1)^{d-1}$ <br>\n",
    "$k(k-1)^{d-1}$ + $k(k-1)^{d+1-1}$ = $\\sum_{d=1}^2 k(k-1)^{d-1}$ <br>\n",
    "$2*k(k-1)^{d-1}$ = $k(k-1)^{d-1}$ <br>\n",
    "\n",
    "![image](./images/Caley-Tree-Conclusion.png)\n",
    "\n",
    "q.e.d."
   ]
  },
  {
   "cell_type": "markdown",
   "metadata": {},
   "source": [
    "<h2>Aufgabe 8:</h2>"
   ]
  },
  {
   "cell_type": "code",
   "execution_count": 1,
   "metadata": {},
   "outputs": [
    {
     "data": {
      "text/html": [
       "\n",
       "\t\t\t<script type=\"text/javascript\">\n",
       "\t\t\t<!--\n",
       "\t\t\t\t\n",
       "\t\t\t{\n",
       "\t\t\t\tvar element = document.getElementById('NetworKit_script');\n",
       "\t\t\t\tif (element) {\n",
       "\t\t\t\t\telement.parentNode.removeChild(element);\n",
       "\t\t\t\t}\n",
       "\t\t\t\telement = document.createElement('script');\n",
       "\t\t\t\telement.type = 'text/javascript';\n",
       "\t\t\t\telement.innerHTML = 'function NetworKit_pageEmbed(id) { var i, j; var elements; elements = document.getElementById(id).getElementsByClassName(\"Plot\"); for (i=0; i<elements.length; i++) { elements[i].id = id + \"_Plot_\" + i; var data = elements[i].getAttribute(\"data-image\").split(\"|\"); elements[i].removeAttribute(\"data-image\"); var content = \"<div class=\\\\\"Image\\\\\" id=\\\\\"\" + elements[i].id + \"_Image\\\\\" />\"; elements[i].innerHTML = content; elements[i].setAttribute(\"data-image-index\", 0); elements[i].setAttribute(\"data-image-length\", data.length); for (j=0; j<data.length; j++) { elements[i].setAttribute(\"data-image-\" + j, data[j]); } NetworKit_plotUpdate(elements[i]); elements[i].onclick = function (e) { NetworKit_overlayShow((e.target) ? e.target : e.srcElement); } } elements = document.getElementById(id).getElementsByClassName(\"HeatCell\"); for (i=0; i<elements.length; i++) { var data = parseFloat(elements[i].getAttribute(\"data-heat\")); var color = \"#00FF00\"; if (data <= 1 && data > 0) { color = \"hsla(0, 100%, 75%, \" + (data) + \")\"; } else if (data <= 0 && data >= -1) { color = \"hsla(240, 100%, 75%, \" + (-data) + \")\"; } elements[i].style.backgroundColor = color; } elements = document.getElementById(id).getElementsByClassName(\"Details\"); for (i=0; i<elements.length; i++) { elements[i].setAttribute(\"data-title\", \"-\"); NetworKit_toggleDetails(elements[i]); elements[i].onclick = function (e) { NetworKit_toggleDetails((e.target) ? e.target : e.srcElement); } } elements = document.getElementById(id).getElementsByClassName(\"MathValue\"); for (i=elements.length-1; i>=0; i--) { value = elements[i].innerHTML.trim(); if (value === \"nan\") { elements[i].parentNode.innerHTML = \"\" } } elements = document.getElementById(id).getElementsByClassName(\"SubCategory\"); for (i=elements.length-1; i>=0; i--) { value = elements[i].innerHTML.trim(); if (value === \"\") { elements[i].parentNode.removeChild(elements[i]) } } elements = document.getElementById(id).getElementsByClassName(\"Category\"); for (i=elements.length-1; i>=0; i--) { value = elements[i].innerHTML.trim(); if (value === \"\") { elements[i].parentNode.removeChild(elements[i]) } } var isFirefox = false; try { isFirefox = typeof InstallTrigger !== \"undefined\"; } catch (e) {} if (!isFirefox) { alert(\"Currently the function\\'s output is only fully supported by Firefox.\"); } } function NetworKit_plotUpdate(source) { var index = source.getAttribute(\"data-image-index\"); var data = source.getAttribute(\"data-image-\" + index); var image = document.getElementById(source.id + \"_Image\"); image.style.backgroundImage = \"url(\" + data + \")\"; } function NetworKit_showElement(id, show) { var element = document.getElementById(id); element.style.display = (show) ? \"block\" : \"none\"; } function NetworKit_overlayShow(source) { NetworKit_overlayUpdate(source); NetworKit_showElement(\"NetworKit_Overlay\", true); } function NetworKit_overlayUpdate(source) { document.getElementById(\"NetworKit_Overlay_Title\").innerHTML = source.title; var index = source.getAttribute(\"data-image-index\"); var data = source.getAttribute(\"data-image-\" + index); var image = document.getElementById(\"NetworKit_Overlay_Image\"); image.setAttribute(\"data-id\", source.id); image.style.backgroundImage = \"url(\" + data + \")\"; var link = document.getElementById(\"NetworKit_Overlay_Toolbar_Bottom_Save\"); link.href = data; link.download = source.title + \".svg\"; } function NetworKit_overlayImageShift(delta) { var image = document.getElementById(\"NetworKit_Overlay_Image\"); var source = document.getElementById(image.getAttribute(\"data-id\")); var index = parseInt(source.getAttribute(\"data-image-index\")); var length = parseInt(source.getAttribute(\"data-image-length\")); var index = (index+delta) % length; if (index < 0) { index = length + index; } source.setAttribute(\"data-image-index\", index); NetworKit_overlayUpdate(source); } function NetworKit_toggleDetails(source) { var childs = source.children; var show = false; if (source.getAttribute(\"data-title\") == \"-\") { source.setAttribute(\"data-title\", \"+\"); show = false; } else { source.setAttribute(\"data-title\", \"-\"); show = true; } for (i=0; i<childs.length; i++) { if (show) { childs[i].style.display = \"block\"; } else { childs[i].style.display = \"none\"; } } }';\n",
       "\t\t\t\telement.setAttribute('id', 'NetworKit_script');\n",
       "\t\t\t\tdocument.head.appendChild(element);\n",
       "\t\t\t}\n",
       "\t\t\n",
       "\t\t\t\t\n",
       "\t\t\t{\n",
       "\t\t\t\tvar element = document.getElementById('NetworKit_style');\n",
       "\t\t\t\tif (element) {\n",
       "\t\t\t\t\telement.parentNode.removeChild(element);\n",
       "\t\t\t\t}\n",
       "\t\t\t\telement = document.createElement('style');\n",
       "\t\t\t\telement.type = 'text/css';\n",
       "\t\t\t\telement.innerHTML = '.NetworKit_Page { font-family: Arial, Helvetica, sans-serif; font-size: 14px; } .NetworKit_Page .Value:before { font-family: Arial, Helvetica, sans-serif; font-size: 1.05em; content: attr(data-title) \":\"; margin-left: -2.5em; padding-right: 0.5em; } .NetworKit_Page .Details .Value:before { display: block; } .NetworKit_Page .Value { font-family: monospace; white-space: pre; padding-left: 2.5em; white-space: -moz-pre-wrap !important; white-space: -pre-wrap; white-space: -o-pre-wrap; white-space: pre-wrap; word-wrap: break-word; tab-size: 4; -moz-tab-size: 4; } .NetworKit_Page .Category { clear: both; padding-left: 1em; margin-bottom: 1.5em; } .NetworKit_Page .Category:before { content: attr(data-title); font-size: 1.75em; display: block; margin-left: -0.8em; margin-bottom: 0.5em; } .NetworKit_Page .SubCategory { margin-bottom: 1.5em; padding-left: 1em; } .NetworKit_Page .SubCategory:before { font-size: 1.6em; display: block; margin-left: -0.8em; margin-bottom: 0.5em; } .NetworKit_Page .SubCategory[data-title]:before { content: attr(data-title); } .NetworKit_Page .Block { display: block; } .NetworKit_Page .Block:after { content: \".\"; visibility: hidden; display: block; height: 0; clear: both; } .NetworKit_Page .Block .Thumbnail_Overview, .NetworKit_Page .Block .Thumbnail_ScatterPlot { width: 260px; float: left; } .NetworKit_Page .Block .Thumbnail_Overview img, .NetworKit_Page .Block .Thumbnail_ScatterPlot img { width: 260px; } .NetworKit_Page .Block .Thumbnail_Overview:before, .NetworKit_Page .Block .Thumbnail_ScatterPlot:before { display: block; text-align: center; font-weight: bold; } .NetworKit_Page .Block .Thumbnail_Overview:before { content: attr(data-title); } .NetworKit_Page .HeatCell { font-family: \"Courier New\", Courier, monospace; cursor: pointer; } .NetworKit_Page .HeatCell, .NetworKit_Page .HeatCellName { display: inline; padding: 0.1em; margin-right: 2px; background-color: #FFFFFF } .NetworKit_Page .HeatCellName { margin-left: 0.25em; } .NetworKit_Page .HeatCell:before { content: attr(data-heat); display: inline-block; color: #000000; width: 4em; text-align: center; } .NetworKit_Page .Measure { clear: both; } .NetworKit_Page .Measure .Details { cursor: pointer; } .NetworKit_Page .Measure .Details:before { content: \"[\" attr(data-title) \"]\"; display: block; } .NetworKit_Page .Measure .Details .Value { border-left: 1px dotted black; margin-left: 0.4em; padding-left: 3.5em; pointer-events: none; } .NetworKit_Page .Measure .Details .Spacer:before { content: \".\"; opacity: 0.0; pointer-events: none; } .NetworKit_Page .Measure .Plot { width: 440px; height: 440px; cursor: pointer; float: left; margin-left: -0.9em; margin-right: 20px; } .NetworKit_Page .Measure .Plot .Image { background-repeat: no-repeat; background-position: center center; background-size: contain; height: 100%; pointer-events: none; } .NetworKit_Page .Measure .Stat { width: 500px; float: left; } .NetworKit_Page .Measure .Stat .Group { padding-left: 1.25em; margin-bottom: 0.75em; } .NetworKit_Page .Measure .Stat .Group .Title { font-size: 1.1em; display: block; margin-bottom: 0.3em; margin-left: -0.75em; border-right-style: dotted; border-right-width: 1px; border-bottom-style: dotted; border-bottom-width: 1px; background-color: #D0D0D0; padding-left: 0.2em; } .NetworKit_Page .Measure .Stat .Group .List { -webkit-column-count: 3; -moz-column-count: 3; column-count: 3; } .NetworKit_Page .Measure .Stat .Group .List .Entry { position: relative; line-height: 1.75em; } .NetworKit_Page .Measure .Stat .Group .List .Entry[data-tooltip]:before { position: absolute; left: 0; top: -40px; background-color: #808080; color: #ffffff; height: 30px; line-height: 30px; border-radius: 5px; padding: 0 15px; content: attr(data-tooltip); white-space: nowrap; display: none; } .NetworKit_Page .Measure .Stat .Group .List .Entry[data-tooltip]:after { position: absolute; left: 15px; top: -10px; border-top: 7px solid #808080; border-left: 7px solid transparent; border-right: 7px solid transparent; content: \"\"; display: none; } .NetworKit_Page .Measure .Stat .Group .List .Entry[data-tooltip]:hover:after, .NetworKit_Page .Measure .Stat .Group .List .Entry[data-tooltip]:hover:before { display: block; } .NetworKit_Page .Measure .Stat .Group .List .Entry .MathValue { font-family: \"Courier New\", Courier, monospace; } .NetworKit_Page .Measure:after { content: \".\"; visibility: hidden; display: block; height: 0; clear: both; } .NetworKit_Page .PartitionPie { clear: both; } .NetworKit_Page .PartitionPie img { width: 600px; } #NetworKit_Overlay { left: 0px; top: 0px; display: none; position: absolute; width: 100%; height: 100%; background-color: rgba(0,0,0,0.6); z-index: 1000; } #NetworKit_Overlay_Title { position: absolute; color: white; transform: rotate(-90deg); width: 32em; height: 32em; padding-right: 0.5em; padding-top: 0.5em; text-align: right; font-size: 40px; } #NetworKit_Overlay .button { background: white; cursor: pointer; } #NetworKit_Overlay .button:before { size: 13px; display: inline-block; text-align: center; margin-top: 0.5em; margin-bottom: 0.5em; width: 1.5em; height: 1.5em; } #NetworKit_Overlay .icon-close:before { content: \"X\"; } #NetworKit_Overlay .icon-previous:before { content: \"P\"; } #NetworKit_Overlay .icon-next:before { content: \"N\"; } #NetworKit_Overlay .icon-save:before { content: \"S\"; } #NetworKit_Overlay_Toolbar_Top, #NetworKit_Overlay_Toolbar_Bottom { position: absolute; width: 40px; right: 13px; text-align: right; z-index: 1100; } #NetworKit_Overlay_Toolbar_Top { top: 0.5em; } #NetworKit_Overlay_Toolbar_Bottom { Bottom: 0.5em; } #NetworKit_Overlay_ImageContainer { position: absolute; top: 5%; left: 5%; height: 90%; width: 90%; background-repeat: no-repeat; background-position: center center; background-size: contain; } #NetworKit_Overlay_Image { height: 100%; width: 100%; background-repeat: no-repeat; background-position: center center; background-size: contain; }';\n",
       "\t\t\t\telement.setAttribute('id', 'NetworKit_style');\n",
       "\t\t\t\tdocument.head.appendChild(element);\n",
       "\t\t\t}\n",
       "\t\t\n",
       "\t\t\t\t\n",
       "\t\t\t{\n",
       "\t\t\t\tvar element = document.getElementById('NetworKit_Overlay');\n",
       "\t\t\t\tif (element) {\n",
       "\t\t\t\t\telement.parentNode.removeChild(element);\n",
       "\t\t\t\t}\n",
       "\t\t\t\telement = document.createElement('div');\n",
       "\t\t\t\telement.innerHTML = '<div id=\"NetworKit_Overlay_Toolbar_Top\"><div class=\"button icon-close\" id=\"NetworKit_Overlay_Close\" /></div><div id=\"NetworKit_Overlay_Title\" /> <div id=\"NetworKit_Overlay_ImageContainer\"> <div id=\"NetworKit_Overlay_Image\" /> </div> <div id=\"NetworKit_Overlay_Toolbar_Bottom\"> <div class=\"button icon-previous\" onclick=\"NetworKit_overlayImageShift(-1)\" /> <div class=\"button icon-next\" onclick=\"NetworKit_overlayImageShift(1)\" /> <a id=\"NetworKit_Overlay_Toolbar_Bottom_Save\"><div class=\"button icon-save\" /></a> </div>';\n",
       "\t\t\t\telement.setAttribute('id', 'NetworKit_Overlay');\n",
       "\t\t\t\tdocument.body.appendChild(element);\n",
       "\t\t\t\tdocument.getElementById('NetworKit_Overlay_Close').onclick = function (e) {\n",
       "\t\t\t\t\tdocument.getElementById('NetworKit_Overlay').style.display = 'none';\n",
       "\t\t\t\t}\n",
       "\t\t\t}\n",
       "\t\t\n",
       "\t\t\t-->\n",
       "\t\t\t</script>\n",
       "\t\t"
      ]
     },
     "metadata": {},
     "output_type": "display_data"
    },
    {
     "name": "stdout",
     "output_type": "stream",
     "text": [
      "NetworKit.Graph(n=15, m=26)\n"
     ]
    }
   ],
   "source": [
    "from numpy import matrix\n",
    "import networkit as nk\n",
    "import networkx as nx\n",
    "from webweb import Web\n",
    "\n",
    "n = 15\n",
    "\n",
    "if n % 3 != 0 and n < 12:\n",
    "    print(\"Mit weniger als 12 Nodes kann ich nicht 5 Edges aus jeder Clique entfernen\")\n",
    "    exit(-1)\n",
    "\n",
    "G: nk.Graph = nk.Graph(n)\n",
    "\n",
    "edgelist = []\n",
    "\n",
    "for i in range(0, int(n / 3)):\n",
    "    for j in range(i + 1, int(n / 3)):\n",
    "        G.addEdge(i, j)\n",
    "        edgelist.append([i,j])\n",
    "\n",
    "for i in range(int(n / 3 - 1), int(n / 3 * 2)):\n",
    "    G.addEdge(i, i+1)\n",
    "    edgelist.append([i,i+1])\n",
    "\n",
    "for i in range(int(n / 3 * 2), n):\n",
    "    for j in range(i + 1, n):\n",
    "        G.addEdge(i, j)\n",
    "        edgelist.append([i,j])\n",
    "\n",
    "print(G)\n",
    "\n",
    "#Visualization of the graph\n",
    "#Web(edgelist).show()"
   ]
  },
  {
   "cell_type": "code",
   "execution_count": 2,
   "metadata": {},
   "outputs": [
    {
     "name": "stdout",
     "output_type": "stream",
     "text": [
      "----  ----  ----  ----  ----  ----  ----  ----  ----  ----  ----  ----  ----  ----  ----\n",
      "0.00  0.40  0.40  0.40  0.40  1.40  2.40  3.40  4.40  5.40  6.40  6.80  6.80  6.80  6.80\n",
      "0.40  0.00  0.40  0.40  0.40  1.40  2.40  3.40  4.40  5.40  6.40  6.80  6.80  6.80  6.80\n",
      "0.40  0.40  0.00  0.40  0.40  1.40  2.40  3.40  4.40  5.40  6.40  6.80  6.80  6.80  6.80\n",
      "0.40  0.40  0.40  0.00  0.40  1.40  2.40  3.40  4.40  5.40  6.40  6.80  6.80  6.80  6.80\n",
      "0.40  0.40  0.40  0.40  0.00  1.00  2.00  3.00  4.00  5.00  6.00  6.40  6.40  6.40  6.40\n",
      "1.40  1.40  1.40  1.40  1.00  0.00  1.00  2.00  3.00  4.00  5.00  5.40  5.40  5.40  5.40\n",
      "2.40  2.40  2.40  2.40  2.00  1.00  0.00  1.00  2.00  3.00  4.00  4.40  4.40  4.40  4.40\n",
      "3.40  3.40  3.40  3.40  3.00  2.00  1.00  0.00  1.00  2.00  3.00  3.40  3.40  3.40  3.40\n",
      "4.40  4.40  4.40  4.40  4.00  3.00  2.00  1.00  0.00  1.00  2.00  2.40  2.40  2.40  2.40\n",
      "5.40  5.40  5.40  5.40  5.00  4.00  3.00  2.00  1.00  0.00  1.00  1.40  1.40  1.40  1.40\n",
      "6.40  6.40  6.40  6.40  6.00  5.00  4.00  3.00  2.00  1.00  0.00  0.40  0.40  0.40  0.40\n",
      "6.80  6.80  6.80  6.80  6.40  5.40  4.40  3.40  2.40  1.40  0.40  0.00  0.40  0.40  0.40\n",
      "6.80  6.80  6.80  6.80  6.40  5.40  4.40  3.40  2.40  1.40  0.40  0.40  0.00  0.40  0.40\n",
      "6.80  6.80  6.80  6.80  6.40  5.40  4.40  3.40  2.40  1.40  0.40  0.40  0.40  0.00  0.40\n",
      "6.80  6.80  6.80  6.80  6.40  5.40  4.40  3.40  2.40  1.40  0.40  0.40  0.40  0.40  0.00\n",
      "----  ----  ----  ----  ----  ----  ----  ----  ----  ----  ----  ----  ----  ----  ----\n"
     ]
    }
   ],
   "source": [
    "import tabulate\n",
    "import numpy as np\n",
    "from scipy import linalg\n",
    "from networkit.algebraic import laplacianMatrix\n",
    "\n",
    "L = laplacianMatrix(G)\n",
    "M = matrix(linalg.pinv(L.todense()))\n",
    "R1 = np.zeros((G.numberOfNodes(), G.numberOfNodes()))\n",
    "for i in range(G.numberOfNodes()):\n",
    "    for j in range(G.numberOfNodes()):\n",
    "        if i!=j:\n",
    "            R1[i,j] = M[i,i] + M[j,j] -2 * M[i,j]\n",
    "\n",
    "np.savetxt(\"matrix.csv\", R1, delimiter=',', fmt=\"%f\")\n",
    "\n",
    "print(tabulate.tabulate(R1, floatfmt=\".2f\"))"
   ]
  },
  {
   "cell_type": "code",
   "execution_count": 3,
   "metadata": {},
   "outputs": [
    {
     "name": "stdout",
     "output_type": "stream",
     "text": [
      "NetworKit.Graph(n=15, m=31)\n"
     ]
    }
   ],
   "source": [
    "if n/3 < 5:\n",
    "    for x in range(n-1, int(n/3*2 - 1), -1):\n",
    "        G.addEdge(x-(n/3*2), x)\n",
    "        edgelist.append([x-(n/3*2), x])\n",
    "    print(1, 10)\n",
    "    G.addEdge(1, 10)\n",
    "    edgelist.append([1, 10])\n",
    "else:\n",
    "    for x in range(n-1, int(n-6), -1):\n",
    "        G.addEdge(x-(n/3*2), x)\n",
    "        edgelist.append([x-(n/3*2), x])\n",
    "\n",
    "print(G)\n",
    "#Web(edgelist).show()"
   ]
  },
  {
   "cell_type": "code",
   "execution_count": 4,
   "metadata": {},
   "outputs": [
    {
     "name": "stdout",
     "output_type": "stream",
     "text": [
      "----  ----  ----  ----  ----  ----  ----  ----  ----  ----  ----  ----  ----  ----  ----\n",
      "0.00  0.34  0.34  0.34  0.34  1.12  1.60  1.76  1.62  1.17  0.42  0.48  0.48  0.48  0.48\n",
      "0.34  0.00  0.34  0.34  0.34  1.13  1.62  1.79  1.66  1.22  0.47  0.43  0.48  0.48  0.48\n",
      "0.34  0.34  0.00  0.34  0.34  1.13  1.62  1.79  1.66  1.22  0.47  0.48  0.43  0.48  0.48\n",
      "0.34  0.34  0.34  0.00  0.34  1.13  1.62  1.79  1.66  1.22  0.47  0.48  0.48  0.43  0.48\n",
      "0.34  0.34  0.34  0.34  0.00  0.85  1.38  1.61  1.53  1.15  0.45  0.47  0.47  0.47  0.42\n",
      "1.12  1.13  1.13  1.13  0.85  0.00  0.85  1.38  1.61  1.53  1.15  1.22  1.22  1.22  1.17\n",
      "1.60  1.62  1.62  1.62  1.38  0.85  0.00  0.85  1.38  1.61  1.53  1.66  1.66  1.66  1.62\n",
      "1.76  1.79  1.79  1.79  1.61  1.38  0.85  0.00  0.85  1.38  1.61  1.79  1.79  1.79  1.76\n",
      "1.62  1.66  1.66  1.66  1.53  1.61  1.38  0.85  0.00  0.85  1.38  1.62  1.62  1.62  1.60\n",
      "1.17  1.22  1.22  1.22  1.15  1.53  1.61  1.38  0.85  0.00  0.85  1.13  1.13  1.13  1.12\n",
      "0.42  0.47  0.47  0.47  0.45  1.15  1.53  1.61  1.38  0.85  0.00  0.34  0.34  0.34  0.34\n",
      "0.48  0.43  0.48  0.48  0.47  1.22  1.66  1.79  1.62  1.13  0.34  0.00  0.34  0.34  0.34\n",
      "0.48  0.48  0.43  0.48  0.47  1.22  1.66  1.79  1.62  1.13  0.34  0.34  0.00  0.34  0.34\n",
      "0.48  0.48  0.48  0.43  0.47  1.22  1.66  1.79  1.62  1.13  0.34  0.34  0.34  0.00  0.34\n",
      "0.48  0.48  0.48  0.48  0.42  1.17  1.62  1.76  1.60  1.12  0.34  0.34  0.34  0.34  0.00\n",
      "----  ----  ----  ----  ----  ----  ----  ----  ----  ----  ----  ----  ----  ----  ----\n"
     ]
    }
   ],
   "source": [
    "import tabulate\n",
    "import numpy as np\n",
    "from scipy import linalg\n",
    "from networkit.algebraic import laplacianMatrix\n",
    "\n",
    "L = laplacianMatrix(G)\n",
    "M = matrix(linalg.pinv(L.todense()))\n",
    "R2 = np.zeros((G.numberOfNodes(), G.numberOfNodes()))\n",
    "for i in range(G.numberOfNodes()):\n",
    "    for j in range(G.numberOfNodes()):\n",
    "        if i!=j:\n",
    "            R2[i,j] = M[i,i] + M[j,j] -2 * M[i,j]\n",
    "\n",
    "np.savetxt(\"matrix2.csv\", R2, delimiter=',', fmt=\"%f\")\n",
    "\n",
    "print(tabulate.tabulate(R2, floatfmt=\".2f\"))"
   ]
  },
  {
   "cell_type": "code",
   "execution_count": 5,
   "metadata": {},
   "outputs": [
    {
     "name": "stdout",
     "output_type": "stream",
     "text": [
      "----  ----  ----  ----  ----  ----  ----  ----  ----  ----  ----  ----  ----  ----  ----\n",
      "0.00  0.06  0.06  0.06  0.06  0.28  0.80  1.64  2.78  4.23  5.98  6.32  6.32  6.32  6.32\n",
      "0.06  0.00  0.06  0.06  0.06  0.27  0.78  1.61  2.74  4.18  5.93  6.37  6.32  6.32  6.32\n",
      "0.06  0.06  0.00  0.06  0.06  0.27  0.78  1.61  2.74  4.18  5.93  6.32  6.37  6.32  6.32\n",
      "0.06  0.06  0.06  0.00  0.06  0.27  0.78  1.61  2.74  4.18  5.93  6.32  6.32  6.37  6.32\n",
      "0.06  0.06  0.06  0.06  0.00  0.15  0.62  1.39  2.47  3.85  5.55  5.93  5.93  5.93  5.98\n",
      "0.28  0.27  0.27  0.27  0.15  0.00  0.15  0.62  1.39  2.47  3.85  4.18  4.18  4.18  4.23\n",
      "0.80  0.78  0.78  0.78  0.62  0.15  0.00  0.15  0.62  1.39  2.47  2.74  2.74  2.74  2.78\n",
      "1.64  1.61  1.61  1.61  1.39  0.62  0.15  0.00  0.15  0.62  1.39  1.61  1.61  1.61  1.64\n",
      "2.78  2.74  2.74  2.74  2.47  1.39  0.62  0.15  0.00  0.15  0.62  0.78  0.78  0.78  0.80\n",
      "4.23  4.18  4.18  4.18  3.85  2.47  1.39  0.62  0.15  0.00  0.15  0.27  0.27  0.27  0.28\n",
      "5.98  5.93  5.93  5.93  5.55  3.85  2.47  1.39  0.62  0.15  0.00  0.06  0.06  0.06  0.06\n",
      "6.32  6.37  6.32  6.32  5.93  4.18  2.74  1.61  0.78  0.27  0.06  0.00  0.06  0.06  0.06\n",
      "6.32  6.32  6.37  6.32  5.93  4.18  2.74  1.61  0.78  0.27  0.06  0.06  0.00  0.06  0.06\n",
      "6.32  6.32  6.32  6.37  5.93  4.18  2.74  1.61  0.78  0.27  0.06  0.06  0.06  0.00  0.06\n",
      "6.32  6.32  6.32  6.32  5.98  4.23  2.78  1.64  0.80  0.28  0.06  0.06  0.06  0.06  0.00\n",
      "----  ----  ----  ----  ----  ----  ----  ----  ----  ----  ----  ----  ----  ----  ----\n"
     ]
    }
   ],
   "source": [
    "R1R2Sub = np.subtract(R1, R2)\n",
    "print(tabulate.tabulate(R1R2Sub, floatfmt=\".2f\"))\n",
    "np.savetxt(\"matrixR1R2Sub.csv\", R1R2Sub, delimiter=';', fmt=\"%f\")"
   ]
  },
  {
   "cell_type": "markdown",
   "metadata": {},
   "source": [
    "Negative Werte bedeuten, dass die Resistance angestiegen ist und Positive, dass sie abgesunken ist. <br>\n",
    "Die Werte in der Resistance Distance Matrix zwischen den zwei ehemaligen Cliquen werden wesentlich kleiner."
   ]
  },
  {
   "cell_type": "code",
   "execution_count": 6,
   "metadata": {},
   "outputs": [
    {
     "name": "stdout",
     "output_type": "stream",
     "text": [
      "NetworKit.Graph(n=15, m=26)\n"
     ]
    }
   ],
   "source": [
    "if n/3 < 5:\n",
    "    for x in range(4):\n",
    "        G.removeEdge(x%(n/3), (x + 1)%(n/3))\n",
    "        try:\n",
    "            edgelist.remove([x%(n/3), (x + 1)%(n/3)])\n",
    "        except:\n",
    "            edgelist.remove([(x + 1)%(n/3), x%(n/3)])\n",
    "    G.removeEdge(1,3)\n",
    "    edgelist.remove([1,3])\n",
    "else:\n",
    "    for x in range(5):\n",
    "        G.removeEdge(x%(n/3), (x + 1)%(n/3))\n",
    "        try:\n",
    "            edgelist.remove([x%(n/3), (x + 1)%(n/3)])\n",
    "        except:\n",
    "            edgelist.remove([(x + 1)%(n/3), x%(n/3)])\n",
    "\n",
    "print(G)\n",
    "#Web(edgelist).show()"
   ]
  },
  {
   "cell_type": "code",
   "execution_count": 7,
   "metadata": {},
   "outputs": [
    {
     "name": "stdout",
     "output_type": "stream",
     "text": [
      "----  ----  ----  ----  ----  ----  ----  ----  ----  ----  ----  ----  ----  ----  ----\n",
      "0.00  0.77  0.57  0.57  0.75  1.46  1.87  1.98  1.80  1.31  0.52  0.65  0.62  0.62  0.65\n",
      "0.77  0.00  0.78  0.57  0.56  1.33  1.79  1.95  1.81  1.37  0.63  0.52  0.65  0.61  0.61\n",
      "0.57  0.78  0.00  0.78  0.56  1.32  1.78  1.93  1.79  1.34  0.60  0.65  0.52  0.65  0.62\n",
      "0.57  0.57  0.78  0.00  0.75  1.48  1.91  2.03  1.86  1.38  0.61  0.62  0.65  0.52  0.65\n",
      "0.75  0.56  0.56  0.75  0.00  0.85  1.40  1.65  1.59  1.24  0.59  0.59  0.59  0.62  0.50\n",
      "1.46  1.33  1.32  1.48  0.85  0.00  0.85  1.40  1.65  1.59  1.24  1.30  1.30  1.32  1.22\n",
      "1.87  1.79  1.78  1.91  1.40  0.85  0.00  0.85  1.40  1.65  1.59  1.71  1.71  1.73  1.65\n",
      "1.98  1.95  1.93  2.03  1.65  1.40  0.85  0.00  0.85  1.40  1.65  1.82  1.82  1.83  1.77\n",
      "1.80  1.81  1.79  1.86  1.59  1.65  1.40  0.85  0.00  0.85  1.40  1.63  1.63  1.64  1.60\n",
      "1.31  1.37  1.34  1.38  1.24  1.59  1.65  1.40  0.85  0.00  0.85  1.14  1.14  1.14  1.12\n",
      "0.52  0.63  0.60  0.61  0.59  1.24  1.59  1.65  1.40  0.85  0.00  0.35  0.34  0.34  0.35\n",
      "0.65  0.52  0.65  0.62  0.59  1.30  1.71  1.82  1.63  1.14  0.35  0.00  0.35  0.35  0.35\n",
      "0.62  0.65  0.52  0.65  0.59  1.30  1.71  1.82  1.63  1.14  0.34  0.35  0.00  0.35  0.35\n",
      "0.62  0.61  0.65  0.52  0.62  1.32  1.73  1.83  1.64  1.14  0.34  0.35  0.35  0.00  0.35\n",
      "0.65  0.61  0.62  0.65  0.50  1.22  1.65  1.77  1.60  1.12  0.35  0.35  0.35  0.35  0.00\n",
      "----  ----  ----  ----  ----  ----  ----  ----  ----  ----  ----  ----  ----  ----  ----\n"
     ]
    }
   ],
   "source": [
    "import tabulate\n",
    "import numpy as np\n",
    "from scipy import linalg\n",
    "from networkit.algebraic import laplacianMatrix\n",
    "\n",
    "L = laplacianMatrix(G)\n",
    "M = matrix(linalg.pinv(L.todense()))\n",
    "R3 = np.zeros((G.numberOfNodes(), G.numberOfNodes()))\n",
    "for i in range(G.numberOfNodes()):\n",
    "    for j in range(G.numberOfNodes()):\n",
    "        if i!=j:\n",
    "            R3[i,j] = M[i,i] + M[j,j] -2 * M[i,j]\n",
    "\n",
    "np.savetxt(\"matrix3.csv\", R3, delimiter=',', fmt=\"%f\")\n",
    "\n",
    "print(tabulate.tabulate(R3, floatfmt=\".2f\"))"
   ]
  },
  {
   "cell_type": "code",
   "execution_count": 8,
   "metadata": {},
   "outputs": [
    {
     "name": "stdout",
     "output_type": "stream",
     "text": [
      "-----  -----  -----  -----  -----  -----  -----  -----  -----  -----  -----  -----  -----  -----  -----\n",
      " 0.00  -0.43  -0.23  -0.23  -0.41  -0.34  -0.28  -0.22  -0.17  -0.13  -0.10  -0.17  -0.13  -0.13  -0.17\n",
      "-0.43   0.00  -0.43  -0.23  -0.22  -0.19  -0.17  -0.16  -0.15  -0.15  -0.16  -0.09  -0.16  -0.13  -0.13\n",
      "-0.23  -0.43   0.00  -0.43  -0.22  -0.19  -0.16  -0.14  -0.13  -0.12  -0.13  -0.16  -0.09  -0.16  -0.13\n",
      "-0.23  -0.23  -0.43   0.00  -0.41  -0.35  -0.29  -0.24  -0.20  -0.16  -0.14  -0.13  -0.17  -0.09  -0.17\n",
      "-0.41  -0.22  -0.22  -0.41   0.00  -0.00  -0.02  -0.03  -0.06  -0.10  -0.14  -0.12  -0.11  -0.15  -0.08\n",
      "-0.34  -0.19  -0.19  -0.35  -0.00   0.00  -0.00  -0.02  -0.03  -0.06  -0.10  -0.08  -0.08  -0.10  -0.05\n",
      "-0.28  -0.17  -0.16  -0.29  -0.02  -0.00   0.00  -0.00  -0.02  -0.03  -0.06  -0.05  -0.05  -0.07  -0.03\n",
      "-0.22  -0.16  -0.14  -0.24  -0.03  -0.02  -0.00   0.00  -0.00  -0.02  -0.03  -0.03  -0.03  -0.04  -0.01\n",
      "-0.17  -0.15  -0.13  -0.20  -0.06  -0.03  -0.02  -0.00   0.00  -0.00  -0.02  -0.02  -0.01  -0.02  -0.00\n",
      "-0.13  -0.15  -0.12  -0.16  -0.10  -0.06  -0.03  -0.02  -0.00   0.00  -0.00  -0.01  -0.00  -0.01  -0.00\n",
      "-0.10  -0.16  -0.13  -0.14  -0.14  -0.10  -0.06  -0.03  -0.02  -0.00   0.00  -0.01  -0.01  -0.01  -0.01\n",
      "-0.17  -0.09  -0.16  -0.13  -0.12  -0.08  -0.05  -0.03  -0.02  -0.01  -0.01   0.00  -0.01  -0.01  -0.01\n",
      "-0.13  -0.16  -0.09  -0.17  -0.11  -0.08  -0.05  -0.03  -0.01  -0.00  -0.01  -0.01   0.00  -0.01  -0.01\n",
      "-0.13  -0.13  -0.16  -0.09  -0.15  -0.10  -0.07  -0.04  -0.02  -0.01  -0.01  -0.01  -0.01   0.00  -0.01\n",
      "-0.17  -0.13  -0.13  -0.17  -0.08  -0.05  -0.03  -0.01  -0.00  -0.00  -0.01  -0.01  -0.01  -0.01   0.00\n",
      "-----  -----  -----  -----  -----  -----  -----  -----  -----  -----  -----  -----  -----  -----  -----\n"
     ]
    }
   ],
   "source": [
    "R2R3Sub = np.subtract(R2, R3)\n",
    "print(tabulate.tabulate(R2R3Sub, floatfmt=\".2f\"))\n",
    "np.savetxt(\"matrixR2R3Sub.csv\", R2R3Sub, delimiter=';', fmt=\"%f\")"
   ]
  },
  {
   "cell_type": "markdown",
   "metadata": {},
   "source": [
    "Negative Werte bedeuten, dass die Resistance angestiegen ist und Positive, dass sie abgesunken ist.<br>\n",
    "Werte steigen ein wenig an"
   ]
  }
 ],
 "metadata": {
  "kernelspec": {
   "display_name": "Python 3 (ipykernel)",
   "language": "python",
   "name": "python3"
  },
  "language_info": {
   "codemirror_mode": {
    "name": "ipython",
    "version": 3
   },
   "file_extension": ".py",
   "mimetype": "text/x-python",
   "name": "python",
   "nbconvert_exporter": "python",
   "pygments_lexer": "ipython3",
   "version": "3.11.0"
  }
 },
 "nbformat": 4,
 "nbformat_minor": 1
}
