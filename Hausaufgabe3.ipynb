{
 "cells": [
  {
   "cell_type": "markdown",
   "metadata": {},
   "source": [
    "<h2>Aufgabe 7:</h2>\n",
    "\n",
    "Die Zahl der Knoten die in $d$ Schritten vom zentralen Knoten eines Cayley-Baums, mit $k$ verbundenen Knoten, erreicht werden können ist genau der Formel $\\sum_{d=1}^\\inf k(k-1)^{d-1}$ für $d \\geq 1$.\n",
    "\n",
    "Anzahl erreichbarer Knoten in $d = 1$ ; $\\sum_{d=1}^1 k(k-1)^{d-1}$ für $k = 3$ <br>\n",
    "... = $3(3-1)^{1-1}$ <br>\n",
    "... = $3*(2)^0$ <br>\n",
    "... = $3*1$ <br>\n",
    "... = $3$ <br>\n",
    "\n",
    "![image](./images/Caley-Tree-d1.png)\n",
    "\n",
    "$3=3$ ist eine wahre Aussage.\n",
    "\n",
    "<h4>Für d + 1</h4>\n",
    "Anzahl erreichbarer Knoten in $d+1$ Schritten = $\\sum_{d=1}^2 k(k-1)^{d-1}$ <br>\n",
    "Anzahl erreichbarer Knoten in $d$ Schritten + $k(k-1)^{(d+1)-1}$ = $\\sum_{d=1}^2 k(k-1)^{d-1}$ <br>\n",
    "$k(k-1)^{d-1}$ + $k(k-1)^{d+1-1}$ = $\\sum_{d=1}^2 k(k-1)^{d-1}$ <br>\n",
    "$2*k(k-1)^{d-1}$ = $k(k-1)^{d-1}$ <br>\n",
    "\n",
    "![image](./images/Caley-Tree-Conclusion.png)\n",
    "\n",
    "q.e.d."
   ]
  },
  {
   "cell_type": "markdown",
   "metadata": {},
   "source": [
    "<h2>Aufgabe 8:</h2>"
   ]
  },
  {
   "cell_type": "code",
   "execution_count": 85,
   "metadata": {},
   "outputs": [
    {
     "name": "stdout",
     "output_type": "stream",
     "text": [
      "NetworKit.Graph(n=15, m=26)\n"
     ]
    }
   ],
   "source": [
    "import networkit as nk\n",
    "from numpy import matrix\n",
    "from webweb import Web\n",
    "\n",
    "n = 15\n",
    "\n",
    "if n % 3 != 0 and n < 12:\n",
    "    print(\"Mit weniger als 12 Nodes kann ich nicht 5 Edges aus jeder Clique entfernen!\")\n",
    "    exit(-1)\n",
    "if n % 3 != 0 and n > 48:\n",
    "    print(\"n ist zu groß!\")\n",
    "    exit(-1)\n",
    "\n",
    "G: nk.Graph = nk.Graph(n)\n",
    "\n",
    "edgelist = []\n",
    "\n",
    "for i in range(0, int(n / 3)):\n",
    "    for j in range(i + 1, int(n / 3)):\n",
    "        G.addEdge(i, j)\n",
    "        edgelist.append([i,j])\n",
    "\n",
    "for i in range(int(n / 3 - 1), int(n / 3 * 2)):\n",
    "    G.addEdge(i, i+1)\n",
    "    edgelist.append([i,i+1])\n",
    "\n",
    "for i in range(int(n / 3 * 2), n):\n",
    "    for j in range(i + 1, n):\n",
    "        G.addEdge(i, j)\n",
    "        edgelist.append([i,j])\n",
    "\n",
    "print(G)\n",
    "\n",
    "#Visualization of the graph\n",
    "#Web(edgelist).show()"
   ]
  },
  {
   "cell_type": "code",
   "execution_count": 86,
   "metadata": {},
   "outputs": [
    {
     "name": "stdout",
     "output_type": "stream",
     "text": [
      "----  ----  ----  ----  ----  ----  ----  ----  ----  ----  ----  ----  ----  ----  ----\n",
      "0.00  0.40  0.40  0.40  0.40  1.40  2.40  3.40  4.40  5.40  6.40  6.80  6.80  6.80  6.80\n",
      "0.40  0.00  0.40  0.40  0.40  1.40  2.40  3.40  4.40  5.40  6.40  6.80  6.80  6.80  6.80\n",
      "0.40  0.40  0.00  0.40  0.40  1.40  2.40  3.40  4.40  5.40  6.40  6.80  6.80  6.80  6.80\n",
      "0.40  0.40  0.40  0.00  0.40  1.40  2.40  3.40  4.40  5.40  6.40  6.80  6.80  6.80  6.80\n",
      "0.40  0.40  0.40  0.40  0.00  1.00  2.00  3.00  4.00  5.00  6.00  6.40  6.40  6.40  6.40\n",
      "1.40  1.40  1.40  1.40  1.00  0.00  1.00  2.00  3.00  4.00  5.00  5.40  5.40  5.40  5.40\n",
      "2.40  2.40  2.40  2.40  2.00  1.00  0.00  1.00  2.00  3.00  4.00  4.40  4.40  4.40  4.40\n",
      "3.40  3.40  3.40  3.40  3.00  2.00  1.00  0.00  1.00  2.00  3.00  3.40  3.40  3.40  3.40\n",
      "4.40  4.40  4.40  4.40  4.00  3.00  2.00  1.00  0.00  1.00  2.00  2.40  2.40  2.40  2.40\n",
      "5.40  5.40  5.40  5.40  5.00  4.00  3.00  2.00  1.00  0.00  1.00  1.40  1.40  1.40  1.40\n",
      "6.40  6.40  6.40  6.40  6.00  5.00  4.00  3.00  2.00  1.00  0.00  0.40  0.40  0.40  0.40\n",
      "6.80  6.80  6.80  6.80  6.40  5.40  4.40  3.40  2.40  1.40  0.40  0.00  0.40  0.40  0.40\n",
      "6.80  6.80  6.80  6.80  6.40  5.40  4.40  3.40  2.40  1.40  0.40  0.40  0.00  0.40  0.40\n",
      "6.80  6.80  6.80  6.80  6.40  5.40  4.40  3.40  2.40  1.40  0.40  0.40  0.40  0.00  0.40\n",
      "6.80  6.80  6.80  6.80  6.40  5.40  4.40  3.40  2.40  1.40  0.40  0.40  0.40  0.40  0.00\n",
      "----  ----  ----  ----  ----  ----  ----  ----  ----  ----  ----  ----  ----  ----  ----\n"
     ]
    }
   ],
   "source": [
    "import tabulate\n",
    "import numpy as np\n",
    "from scipy import linalg\n",
    "from networkit.algebraic import laplacianMatrix\n",
    "\n",
    "L = laplacianMatrix(G)\n",
    "M = matrix(linalg.pinv(L.todense()))\n",
    "R1 = np.zeros((G.numberOfNodes(), G.numberOfNodes()))\n",
    "for i in range(G.numberOfNodes()):\n",
    "    for j in range(G.numberOfNodes()):\n",
    "        if i!=j:\n",
    "            R1[i,j] = M[i,i] + M[j,j] -2 * M[i,j]\n",
    "\n",
    "np.savetxt(\"matrix.csv\", R1, delimiter=',', fmt=\"%f\")\n",
    "\n",
    "print(tabulate.tabulate(R1, floatfmt=\".2f\"))"
   ]
  },
  {
   "cell_type": "code",
   "execution_count": 87,
   "metadata": {},
   "outputs": [
    {
     "name": "stdout",
     "output_type": "stream",
     "text": [
      "NetworKit.Graph(n=15, m=31)\n"
     ]
    }
   ],
   "source": [
    "if n/3 < 5:\n",
    "    for x in range(n-1, int(n/3*2 - 1), -1):\n",
    "        G.addEdge(x-(n/3*2), x)\n",
    "        edgelist.append([x-(n/3*2), x])\n",
    "    print(1, 10)\n",
    "    G.addEdge(1, 10)\n",
    "    edgelist.append([1, 10])\n",
    "else:\n",
    "    for x in range(n-1, int(n-6), -1):\n",
    "        G.addEdge(x-(n/3*2), x)\n",
    "        edgelist.append([x-(n/3*2), x])\n",
    "\n",
    "print(G)\n",
    "\n",
    "#Visualization of the graph\n",
    "#Web(edgelist).show()"
   ]
  },
  {
   "cell_type": "code",
   "execution_count": 88,
   "metadata": {},
   "outputs": [
    {
     "name": "stdout",
     "output_type": "stream",
     "text": [
      "----  ----  ----  ----  ----  ----  ----  ----  ----  ----  ----  ----  ----  ----  ----\n",
      "0.00  0.34  0.34  0.34  0.34  1.12  1.60  1.76  1.62  1.17  0.42  0.48  0.48  0.48  0.48\n",
      "0.34  0.00  0.34  0.34  0.34  1.13  1.62  1.79  1.66  1.22  0.47  0.43  0.48  0.48  0.48\n",
      "0.34  0.34  0.00  0.34  0.34  1.13  1.62  1.79  1.66  1.22  0.47  0.48  0.43  0.48  0.48\n",
      "0.34  0.34  0.34  0.00  0.34  1.13  1.62  1.79  1.66  1.22  0.47  0.48  0.48  0.43  0.48\n",
      "0.34  0.34  0.34  0.34  0.00  0.85  1.38  1.61  1.53  1.15  0.45  0.47  0.47  0.47  0.42\n",
      "1.12  1.13  1.13  1.13  0.85  0.00  0.85  1.38  1.61  1.53  1.15  1.22  1.22  1.22  1.17\n",
      "1.60  1.62  1.62  1.62  1.38  0.85  0.00  0.85  1.38  1.61  1.53  1.66  1.66  1.66  1.62\n",
      "1.76  1.79  1.79  1.79  1.61  1.38  0.85  0.00  0.85  1.38  1.61  1.79  1.79  1.79  1.76\n",
      "1.62  1.66  1.66  1.66  1.53  1.61  1.38  0.85  0.00  0.85  1.38  1.62  1.62  1.62  1.60\n",
      "1.17  1.22  1.22  1.22  1.15  1.53  1.61  1.38  0.85  0.00  0.85  1.13  1.13  1.13  1.12\n",
      "0.42  0.47  0.47  0.47  0.45  1.15  1.53  1.61  1.38  0.85  0.00  0.34  0.34  0.34  0.34\n",
      "0.48  0.43  0.48  0.48  0.47  1.22  1.66  1.79  1.62  1.13  0.34  0.00  0.34  0.34  0.34\n",
      "0.48  0.48  0.43  0.48  0.47  1.22  1.66  1.79  1.62  1.13  0.34  0.34  0.00  0.34  0.34\n",
      "0.48  0.48  0.48  0.43  0.47  1.22  1.66  1.79  1.62  1.13  0.34  0.34  0.34  0.00  0.34\n",
      "0.48  0.48  0.48  0.48  0.42  1.17  1.62  1.76  1.60  1.12  0.34  0.34  0.34  0.34  0.00\n",
      "----  ----  ----  ----  ----  ----  ----  ----  ----  ----  ----  ----  ----  ----  ----\n"
     ]
    }
   ],
   "source": [
    "import tabulate\n",
    "import numpy as np\n",
    "from scipy import linalg\n",
    "from networkit.algebraic import laplacianMatrix\n",
    "\n",
    "L = laplacianMatrix(G)\n",
    "M = matrix(linalg.pinv(L.todense()))\n",
    "R2 = np.zeros((G.numberOfNodes(), G.numberOfNodes()))\n",
    "for i in range(G.numberOfNodes()):\n",
    "    for j in range(G.numberOfNodes()):\n",
    "        if i!=j:\n",
    "            R2[i,j] = M[i,i] + M[j,j] -2 * M[i,j]\n",
    "\n",
    "np.savetxt(\"matrix2.csv\", R2, delimiter=',', fmt=\"%f\")\n",
    "\n",
    "print(tabulate.tabulate(R2, floatfmt=\".2f\"))"
   ]
  },
  {
   "cell_type": "code",
   "execution_count": 89,
   "metadata": {},
   "outputs": [
    {
     "name": "stdout",
     "output_type": "stream",
     "text": [
      "----  ----  ----  ----  ----  ----  ----  ----  ----  ----  ----  ----  ----  ----  ----\n",
      "0.00  0.06  0.06  0.06  0.06  0.28  0.80  1.64  2.78  4.23  5.98  6.32  6.32  6.32  6.32\n",
      "0.06  0.00  0.06  0.06  0.06  0.27  0.78  1.61  2.74  4.18  5.93  6.37  6.32  6.32  6.32\n",
      "0.06  0.06  0.00  0.06  0.06  0.27  0.78  1.61  2.74  4.18  5.93  6.32  6.37  6.32  6.32\n",
      "0.06  0.06  0.06  0.00  0.06  0.27  0.78  1.61  2.74  4.18  5.93  6.32  6.32  6.37  6.32\n",
      "0.06  0.06  0.06  0.06  0.00  0.15  0.62  1.39  2.47  3.85  5.55  5.93  5.93  5.93  5.98\n",
      "0.28  0.27  0.27  0.27  0.15  0.00  0.15  0.62  1.39  2.47  3.85  4.18  4.18  4.18  4.23\n",
      "0.80  0.78  0.78  0.78  0.62  0.15  0.00  0.15  0.62  1.39  2.47  2.74  2.74  2.74  2.78\n",
      "1.64  1.61  1.61  1.61  1.39  0.62  0.15  0.00  0.15  0.62  1.39  1.61  1.61  1.61  1.64\n",
      "2.78  2.74  2.74  2.74  2.47  1.39  0.62  0.15  0.00  0.15  0.62  0.78  0.78  0.78  0.80\n",
      "4.23  4.18  4.18  4.18  3.85  2.47  1.39  0.62  0.15  0.00  0.15  0.27  0.27  0.27  0.28\n",
      "5.98  5.93  5.93  5.93  5.55  3.85  2.47  1.39  0.62  0.15  0.00  0.06  0.06  0.06  0.06\n",
      "6.32  6.37  6.32  6.32  5.93  4.18  2.74  1.61  0.78  0.27  0.06  0.00  0.06  0.06  0.06\n",
      "6.32  6.32  6.37  6.32  5.93  4.18  2.74  1.61  0.78  0.27  0.06  0.06  0.00  0.06  0.06\n",
      "6.32  6.32  6.32  6.37  5.93  4.18  2.74  1.61  0.78  0.27  0.06  0.06  0.06  0.00  0.06\n",
      "6.32  6.32  6.32  6.32  5.98  4.23  2.78  1.64  0.80  0.28  0.06  0.06  0.06  0.06  0.00\n",
      "----  ----  ----  ----  ----  ----  ----  ----  ----  ----  ----  ----  ----  ----  ----\n"
     ]
    }
   ],
   "source": [
    "R1R2Sub = np.subtract(R1, R2)\n",
    "print(tabulate.tabulate(R1R2Sub, floatfmt=\".2f\"))\n",
    "np.savetxt(\"matrixR1R2Sub.csv\", R1R2Sub, delimiter=';', fmt=\"%f\")"
   ]
  },
  {
   "cell_type": "markdown",
   "metadata": {},
   "source": [
    "Negative Werte bedeuten, dass die Resistance angestiegen ist und Positive, dass sie abgesunken ist. <br>\n",
    "Die Werte in der Resistance Distance Matrix zwischen den zwei ehemaligen Cliquen werden wesentlich kleiner."
   ]
  },
  {
   "cell_type": "code",
   "execution_count": 90,
   "metadata": {},
   "outputs": [
    {
     "name": "stdout",
     "output_type": "stream",
     "text": [
      "NetworKit.Graph(n=15, m=21)\n"
     ]
    }
   ],
   "source": [
    "if n/3 < 5:\n",
    "    for x in range(4):\n",
    "        G.removeEdge(x%(n/3), (x + 1)%(n/3))\n",
    "        try:\n",
    "            edgelist.remove([x%(n/3), (x + 1)%(n/3)])\n",
    "        except:\n",
    "            edgelist.remove([(x + 1)%(n/3), x%(n/3)])\n",
    "    G.removeEdge(1,3)\n",
    "    edgelist.remove([1,3])\n",
    "else:\n",
    "    for x in range(5):\n",
    "        G.removeEdge(x % (n/3), (x + 1) % (n/3))\n",
    "        try:\n",
    "            edgelist.remove([x % (n/3), (x + 1) % (n/3)])\n",
    "        except:\n",
    "            edgelist.remove([(x + 1) % (n/3), x%(n/3)])\n",
    "\n",
    "if n/3 < 5:\n",
    "    for x in range(n-1, n-5, -1):\n",
    "        G.removeEdge(x % (n/3) + (n/3*2), (x + 1) % (n/3) + (n/3*2))\n",
    "        try:\n",
    "            edgelist.remove([x % (n/3) + (n/3*2), (x + 1) % (n/3) + (n/3*2)])\n",
    "        except:\n",
    "            edgelist.remove([(x + 1) % (n/3) + (n/3*2), x % (n/3) + (n/3*2)])\n",
    "    G.removeEdge(9,11)\n",
    "    edgelist.remove([9,11])\n",
    "else:\n",
    "    for x in range(5):\n",
    "        G.removeEdge(x % (n/3) + (n/3*2), (x + 1) % (n/3) + (n/3*2))\n",
    "        try:\n",
    "            edgelist.remove([x % (n/3) + (n/3*2), (x + 1) % (n/3) + (n/3*2)])\n",
    "        except:\n",
    "            edgelist.remove([(x + 1) % (n/3) + (n/3*2), x % (n/3) + (n/3*2)])\n",
    "\n",
    "print(G)\n",
    "\n",
    "#Visualization of the graph\n",
    "#Web(edgelist).show()"
   ]
  },
  {
   "cell_type": "code",
   "execution_count": 91,
   "metadata": {},
   "outputs": [
    {
     "name": "stdout",
     "output_type": "stream",
     "text": [
      "----  ----  ----  ----  ----  ----  ----  ----  ----  ----  ----  ----  ----  ----  ----\n",
      "0.00  0.85  0.60  0.61  0.81  1.49  1.89  1.99  1.80  1.33  0.56  0.91  0.77  0.77  0.90\n",
      "0.85  0.00  0.86  0.60  0.60  1.36  1.84  2.03  1.93  1.54  0.86  0.58  0.91  0.75  0.77\n",
      "0.60  0.86  0.00  0.86  0.59  1.34  1.79  1.96  1.84  1.43  0.73  0.92  0.58  0.91  0.77\n",
      "0.61  0.60  0.86  0.00  0.83  1.54  1.96  2.09  1.93  1.48  0.74  0.77  0.92  0.58  0.91\n",
      "0.81  0.60  0.59  0.83  0.00  0.86  1.42  1.70  1.69  1.39  0.79  0.74  0.73  0.86  0.56\n",
      "1.49  1.36  1.34  1.54  0.86  0.00  0.86  1.42  1.70  1.69  1.39  1.48  1.43  1.54  1.33\n",
      "1.89  1.84  1.79  1.96  1.42  0.86  0.00  0.86  1.42  1.70  1.69  1.93  1.84  1.93  1.80\n",
      "1.99  2.03  1.96  2.09  1.70  1.42  0.86  0.00  0.86  1.42  1.70  2.09  1.96  2.03  1.99\n",
      "1.80  1.93  1.84  1.93  1.69  1.70  1.42  0.86  0.00  0.86  1.42  1.96  1.79  1.84  1.89\n",
      "1.33  1.54  1.43  1.48  1.39  1.69  1.70  1.42  0.86  0.00  0.86  1.54  1.34  1.36  1.49\n",
      "0.56  0.86  0.73  0.74  0.79  1.39  1.69  1.70  1.42  0.86  0.00  0.83  0.59  0.60  0.81\n",
      "0.91  0.58  0.92  0.77  0.74  1.48  1.93  2.09  1.96  1.54  0.83  0.00  0.86  0.60  0.61\n",
      "0.77  0.91  0.58  0.92  0.73  1.43  1.84  1.96  1.79  1.34  0.59  0.86  0.00  0.86  0.60\n",
      "0.77  0.75  0.91  0.58  0.86  1.54  1.93  2.03  1.84  1.36  0.60  0.60  0.86  0.00  0.85\n",
      "0.90  0.77  0.77  0.91  0.56  1.33  1.80  1.99  1.89  1.49  0.81  0.61  0.60  0.85  0.00\n",
      "----  ----  ----  ----  ----  ----  ----  ----  ----  ----  ----  ----  ----  ----  ----\n"
     ]
    }
   ],
   "source": [
    "import tabulate\n",
    "import numpy as np\n",
    "from scipy import linalg\n",
    "from networkit.algebraic import laplacianMatrix\n",
    "\n",
    "L = laplacianMatrix(G).todense()\n",
    "\n",
    "M = matrix(linalg.pinv(L))\n",
    "R3 = np.zeros((G.numberOfNodes(), G.numberOfNodes()))\n",
    "for i in range(G.numberOfNodes()):\n",
    "    for j in range(G.numberOfNodes()):\n",
    "        if i!=j:\n",
    "            R3[i,j] = M[i,i] + M[j,j] -2 * M[i,j]\n",
    "\n",
    "np.savetxt(\"matrix3.csv\", R3, delimiter=',', fmt=\"%f\")\n",
    "\n",
    "print(tabulate.tabulate(R3, floatfmt=\".2f\"))"
   ]
  },
  {
   "cell_type": "code",
   "execution_count": 92,
   "metadata": {},
   "outputs": [
    {
     "name": "stdout",
     "output_type": "stream",
     "text": [
      "-----  -----  -----  -----  -----  -----  -----  -----  -----  -----  -----  -----  -----  -----  -----\n",
      " 0.00  -0.51  -0.26  -0.27  -0.47  -0.37  -0.29  -0.23  -0.18  -0.15  -0.15  -0.43  -0.28  -0.28  -0.42\n",
      "-0.51   0.00  -0.52  -0.26  -0.26  -0.23  -0.23  -0.24  -0.27  -0.32  -0.39  -0.15  -0.43  -0.27  -0.28\n",
      "-0.26  -0.52   0.00  -0.52  -0.25  -0.20  -0.18  -0.17  -0.18  -0.21  -0.26  -0.43  -0.15  -0.43  -0.28\n",
      "-0.27  -0.26  -0.52   0.00  -0.49  -0.40  -0.34  -0.29  -0.27  -0.26  -0.27  -0.28  -0.43  -0.15  -0.43\n",
      "-0.47  -0.26  -0.25  -0.49   0.00  -0.01  -0.04  -0.09  -0.15  -0.24  -0.35  -0.27  -0.26  -0.39  -0.15\n",
      "-0.37  -0.23  -0.20  -0.40  -0.01   0.00  -0.01  -0.04  -0.09  -0.15  -0.24  -0.26  -0.21  -0.32  -0.15\n",
      "-0.29  -0.23  -0.18  -0.34  -0.04  -0.01   0.00  -0.01  -0.04  -0.09  -0.15  -0.27  -0.18  -0.27  -0.18\n",
      "-0.23  -0.24  -0.17  -0.29  -0.09  -0.04  -0.01   0.00  -0.01  -0.04  -0.09  -0.29  -0.17  -0.24  -0.23\n",
      "-0.18  -0.27  -0.18  -0.27  -0.15  -0.09  -0.04  -0.01   0.00  -0.01  -0.04  -0.34  -0.18  -0.23  -0.29\n",
      "-0.15  -0.32  -0.21  -0.26  -0.24  -0.15  -0.09  -0.04  -0.01   0.00  -0.01  -0.40  -0.20  -0.23  -0.37\n",
      "-0.15  -0.39  -0.26  -0.27  -0.35  -0.24  -0.15  -0.09  -0.04  -0.01   0.00  -0.49  -0.25  -0.26  -0.47\n",
      "-0.43  -0.15  -0.43  -0.28  -0.27  -0.26  -0.27  -0.29  -0.34  -0.40  -0.49   0.00  -0.52  -0.26  -0.27\n",
      "-0.28  -0.43  -0.15  -0.43  -0.26  -0.21  -0.18  -0.17  -0.18  -0.20  -0.25  -0.52   0.00  -0.52  -0.26\n",
      "-0.28  -0.27  -0.43  -0.15  -0.39  -0.32  -0.27  -0.24  -0.23  -0.23  -0.26  -0.26  -0.52   0.00  -0.51\n",
      "-0.42  -0.28  -0.28  -0.43  -0.15  -0.15  -0.18  -0.23  -0.29  -0.37  -0.47  -0.27  -0.26  -0.51   0.00\n",
      "-----  -----  -----  -----  -----  -----  -----  -----  -----  -----  -----  -----  -----  -----  -----\n"
     ]
    }
   ],
   "source": [
    "R2R3Sub = np.subtract(R2, R3)\n",
    "print(tabulate.tabulate(R2R3Sub, floatfmt=\".2f\"))\n",
    "np.savetxt(\"matrixR2R3Sub.csv\", R2R3Sub, delimiter=';', fmt=\"%f\")"
   ]
  },
  {
   "cell_type": "markdown",
   "metadata": {},
   "source": [
    "Negative Werte bedeuten, dass die Resistance angestiegen ist und Positive, dass sie abgesunken ist.<br>\n",
    "Werte steigen ein wenig an. <br>\n",
    "Je nach Größe der Clique und/oder Stellen, an denen man Edges entfernt, kann sich diese auflösen und in einzelne Teile zerfallen. <br>"
   ]
  }
 ],
 "metadata": {
  "kernelspec": {
   "display_name": "Python 3 (ipykernel)",
   "language": "python",
   "name": "python3"
  },
  "language_info": {
   "codemirror_mode": {
    "name": "ipython",
    "version": 3
   },
   "file_extension": ".py",
   "mimetype": "text/x-python",
   "name": "python",
   "nbconvert_exporter": "python",
   "pygments_lexer": "ipython3",
   "version": "3.11.0"
  }
 },
 "nbformat": 4,
 "nbformat_minor": 1
}
