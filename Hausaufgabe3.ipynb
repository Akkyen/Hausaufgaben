{
 "cells": [
  {
   "cell_type": "markdown",
   "metadata": {},
   "source": [
    "<h2>Aufgabe 7:</h2>\n",
    "\n",
    "Die Zahl der Knoten die in $d$ Schritten vom zentralen Knoten eines Cayley-Baums, mit $k$ verbundenen Knoten, erreicht werden können ist genau der Formel $\\sum_{d=1}^\\inf k(k-1)^{d-1}$ für $d \\geq 1$.\n",
    "\n",
    "Anzahl erreichbarer Knoten in $d = 1$ ; $\\sum_{d=1}^1 k(k-1)^{d-1}$ für $k = 3$ <br>\n",
    "... = $3(3-1)^{1-1}$ <br>\n",
    "... = $3*(2)^0$ <br>\n",
    "... = $3*1$ <br>\n",
    "... = $3$ <br>\n",
    "\n",
    "![image](./images/Caley-Tree-d1.png)\n",
    "\n",
    "$3=3$ ist eine wahre Aussage.\n",
    "\n",
    "<h4>Für d + 1</h4>\n",
    "Anzahl erreichbarer Knoten in $d+1$ Schritten = $\\sum_{d=1}^2 k(k-1)^{d-1}$ <br>\n",
    "Anzahl erreichbarer Knoten in $d$ Schritten + $k(k-1)^{(d+1)-1}$ = $\\sum_{d=1}^2 k(k-1)^{d-1}$ <br>\n",
    "$k(k-1)^{d-1}$ + $k(k-1)^{d+1-1}$ = $\\sum_{d=1}^2 k(k-1)^{d-1}$ <br>\n",
    "$2*k(k-1)^{d-1}$ = $k(k-1)^{d-1}$ <br>\n",
    "\n",
    "![image](./images/Caley-Tree-Conclusion.png)\n",
    "\n",
    "q.e.d."
   ]
  },
  {
   "cell_type": "markdown",
   "metadata": {},
   "source": [
    "<h2>Aufgabe 8:</h2>"
   ]
  },
  {
   "cell_type": "code",
   "execution_count": 57,
   "metadata": {},
   "outputs": [
    {
     "name": "stdout",
     "output_type": "stream",
     "text": [
      "NetworKit.Graph(n=12, m=17)\n"
     ]
    }
   ],
   "source": [
    "import networkit as nk\n",
    "from numpy import matrix\n",
    "from webweb import Web\n",
    "\n",
    "n = 12\n",
    "\n",
    "if n % 3 != 0 and n < 12:\n",
    "    print(\"Mit weniger als 12 Nodes kann ich nicht 5 Edges aus jeder Clique entfernen!\")\n",
    "    exit(-1)\n",
    "if n % 3 != 0 and n > 48:\n",
    "    print(\"n ist zu groß!\")\n",
    "    exit(-1)\n",
    "\n",
    "G: nk.Graph = nk.Graph(n)\n",
    "\n",
    "edgelist = []\n",
    "\n",
    "for i in range(0, int(n / 3)):\n",
    "    for j in range(i + 1, int(n / 3)):\n",
    "        G.addEdge(i, j)\n",
    "        edgelist.append([i,j])\n",
    "\n",
    "for i in range(int(n / 3 - 1), int(n / 3 * 2)):\n",
    "    G.addEdge(i, i+1)\n",
    "    edgelist.append([i,i+1])\n",
    "\n",
    "for i in range(int(n / 3 * 2), n):\n",
    "    for j in range(i + 1, n):\n",
    "        G.addEdge(i, j)\n",
    "        edgelist.append([i,j])\n",
    "\n",
    "print(G)\n",
    "\n",
    "#Visualization of the graph\n",
    "#Web(edgelist).show()"
   ]
  },
  {
   "cell_type": "code",
   "execution_count": 58,
   "metadata": {},
   "outputs": [
    {
     "name": "stdout",
     "output_type": "stream",
     "text": [
      "----  ----  ----  ----  ----  ----  ----  ----  ----  ----  ----  ----\n",
      "0.00  0.50  0.50  0.50  1.50  2.50  3.50  4.50  5.50  6.00  6.00  6.00\n",
      "0.50  0.00  0.50  0.50  1.50  2.50  3.50  4.50  5.50  6.00  6.00  6.00\n",
      "0.50  0.50  0.00  0.50  1.50  2.50  3.50  4.50  5.50  6.00  6.00  6.00\n",
      "0.50  0.50  0.50  0.00  1.00  2.00  3.00  4.00  5.00  5.50  5.50  5.50\n",
      "1.50  1.50  1.50  1.00  0.00  1.00  2.00  3.00  4.00  4.50  4.50  4.50\n",
      "2.50  2.50  2.50  2.00  1.00  0.00  1.00  2.00  3.00  3.50  3.50  3.50\n",
      "3.50  3.50  3.50  3.00  2.00  1.00  0.00  1.00  2.00  2.50  2.50  2.50\n",
      "4.50  4.50  4.50  4.00  3.00  2.00  1.00  0.00  1.00  1.50  1.50  1.50\n",
      "5.50  5.50  5.50  5.00  4.00  3.00  2.00  1.00  0.00  0.50  0.50  0.50\n",
      "6.00  6.00  6.00  5.50  4.50  3.50  2.50  1.50  0.50  0.00  0.50  0.50\n",
      "6.00  6.00  6.00  5.50  4.50  3.50  2.50  1.50  0.50  0.50  0.00  0.50\n",
      "6.00  6.00  6.00  5.50  4.50  3.50  2.50  1.50  0.50  0.50  0.50  0.00\n",
      "----  ----  ----  ----  ----  ----  ----  ----  ----  ----  ----  ----\n"
     ]
    }
   ],
   "source": [
    "import tabulate\n",
    "import numpy as np\n",
    "from scipy import linalg\n",
    "from networkit.algebraic import laplacianMatrix\n",
    "\n",
    "L = laplacianMatrix(G).todense()\n",
    "M = matrix(linalg.pinv(L))\n",
    "R1 = np.zeros((G.numberOfNodes(), G.numberOfNodes()))\n",
    "for i in range(G.numberOfNodes()):\n",
    "    for j in range(G.numberOfNodes()):\n",
    "        if i!=j:\n",
    "            R1[i,j] = M[i,i] + M[j,j] -2 * M[i,j]\n",
    "\n",
    "np.savetxt(\"matrix.csv\", R1, delimiter=',', fmt=\"%f\")\n",
    "\n",
    "print(tabulate.tabulate(R1, floatfmt=\".2f\"))"
   ]
  },
  {
   "cell_type": "code",
   "execution_count": 59,
   "metadata": {},
   "outputs": [
    {
     "name": "stdout",
     "output_type": "stream",
     "text": [
      "NetworKit.Graph(n=12, m=22)\n"
     ]
    }
   ],
   "source": [
    "if n/3 < 5:\n",
    "    for x in range(n-1, int(n/3*2 - 1), -1):\n",
    "        G.addEdge(x-(n/3*2), x)\n",
    "        edgelist.append([x-(n/3*2), x])\n",
    "    G.addEdge(1, 10)\n",
    "    edgelist.append([1, 10])\n",
    "else:\n",
    "    for x in range(n-1, int(n-6), -1):\n",
    "        G.addEdge(x-(n/3*2), x)\n",
    "        edgelist.append([x-(n/3*2), x])\n",
    "\n",
    "print(G)\n",
    "\n",
    "#Visualization of the graph\n",
    "#Web(edgelist).show()"
   ]
  },
  {
   "cell_type": "code",
   "execution_count": 60,
   "metadata": {},
   "outputs": [
    {
     "name": "stdout",
     "output_type": "stream",
     "text": [
      "----  ----  ----  ----  ----  ----  ----  ----  ----  ----  ----  ----\n",
      "0.00  0.39  0.42  0.41  1.14  1.51  1.52  1.17  0.46  0.57  0.49  0.57\n",
      "0.39  0.00  0.38  0.38  1.12  1.50  1.51  1.17  0.47  0.43  0.37  0.49\n",
      "0.42  0.38  0.00  0.41  1.16  1.54  1.57  1.24  0.55  0.57  0.43  0.57\n",
      "0.41  0.38  0.41  0.00  0.82  1.28  1.38  1.13  0.51  0.55  0.47  0.46\n",
      "1.14  1.12  1.16  0.82  0.00  0.82  1.28  1.38  1.13  1.24  1.17  1.17\n",
      "1.51  1.50  1.54  1.28  0.82  0.00  0.82  1.28  1.38  1.57  1.51  1.52\n",
      "1.52  1.51  1.57  1.38  1.28  0.82  0.00  0.82  1.28  1.54  1.50  1.51\n",
      "1.17  1.17  1.24  1.13  1.38  1.28  0.82  0.00  0.82  1.16  1.12  1.14\n",
      "0.46  0.47  0.55  0.51  1.13  1.38  1.28  0.82  0.00  0.41  0.38  0.41\n",
      "0.57  0.43  0.57  0.55  1.24  1.57  1.54  1.16  0.41  0.00  0.38  0.42\n",
      "0.49  0.37  0.43  0.47  1.17  1.51  1.50  1.12  0.38  0.38  0.00  0.39\n",
      "0.57  0.49  0.57  0.46  1.17  1.52  1.51  1.14  0.41  0.42  0.39  0.00\n",
      "----  ----  ----  ----  ----  ----  ----  ----  ----  ----  ----  ----\n"
     ]
    }
   ],
   "source": [
    "import tabulate\n",
    "import numpy as np\n",
    "from scipy import linalg\n",
    "from networkit.algebraic import laplacianMatrix\n",
    "\n",
    "L = laplacianMatrix(G).todense()\n",
    "M = matrix(linalg.pinv(L))\n",
    "R2 = np.zeros((G.numberOfNodes(), G.numberOfNodes()))\n",
    "for i in range(G.numberOfNodes()):\n",
    "    for j in range(G.numberOfNodes()):\n",
    "        if i!=j:\n",
    "            R2[i,j] = M[i,i] + M[j,j] -2 * M[i,j]\n",
    "\n",
    "np.savetxt(\"matrix.csv\", R2, delimiter=',', fmt=\"%f\")\n",
    "\n",
    "print(tabulate.tabulate(R2, floatfmt=\".2f\"))"
   ]
  },
  {
   "cell_type": "code",
   "execution_count": 61,
   "metadata": {},
   "outputs": [
    {
     "name": "stdout",
     "output_type": "stream",
     "text": [
      "-----  -----  -----  -----  -----  -----  -----  -----  -----  -----  -----  -----\n",
      " 0.00  -0.11  -0.08  -0.09  -0.36  -0.99  -1.98  -3.33  -5.04  -5.43  -5.51  -5.43\n",
      "-0.11   0.00  -0.12  -0.12  -0.38  -1.00  -1.99  -3.33  -5.03  -5.57  -5.63  -5.51\n",
      "-0.08  -0.12   0.00  -0.09  -0.34  -0.96  -1.93  -3.26  -4.95  -5.43  -5.57  -5.43\n",
      "-0.09  -0.12  -0.09   0.00  -0.18  -0.72  -1.62  -2.87  -4.49  -4.95  -5.03  -5.04\n",
      "-0.36  -0.38  -0.34  -0.18   0.00  -0.18  -0.72  -1.62  -2.87  -3.26  -3.33  -3.33\n",
      "-0.99  -1.00  -0.96  -0.72  -0.18   0.00  -0.18  -0.72  -1.62  -1.93  -1.99  -1.98\n",
      "-1.98  -1.99  -1.93  -1.62  -0.72  -0.18   0.00  -0.18  -0.72  -0.96  -1.00  -0.99\n",
      "-3.33  -3.33  -3.26  -2.87  -1.62  -0.72  -0.18   0.00  -0.18  -0.34  -0.38  -0.36\n",
      "-5.04  -5.03  -4.95  -4.49  -2.87  -1.62  -0.72  -0.18   0.00  -0.09  -0.12  -0.09\n",
      "-5.43  -5.57  -5.43  -4.95  -3.26  -1.93  -0.96  -0.34  -0.09   0.00  -0.12  -0.08\n",
      "-5.51  -5.63  -5.57  -5.03  -3.33  -1.99  -1.00  -0.38  -0.12  -0.12   0.00  -0.11\n",
      "-5.43  -5.51  -5.43  -5.04  -3.33  -1.98  -0.99  -0.36  -0.09  -0.08  -0.11   0.00\n",
      "-----  -----  -----  -----  -----  -----  -----  -----  -----  -----  -----  -----\n"
     ]
    }
   ],
   "source": [
    "R2R1Sub = np.subtract(R2, R1)\n",
    "print(tabulate.tabulate(R2R1Sub, floatfmt=\".2f\"))\n",
    "np.savetxt(\"matrixR2R1Sub.csv\", R2R1Sub, delimiter=';', fmt=\"%f\")"
   ]
  },
  {
   "cell_type": "markdown",
   "metadata": {},
   "source": [
    "Die Werte in der Resistance Distance Matrix zwischen den zwei ehemaligen Cliquen werden wesentlich kleiner."
   ]
  },
  {
   "cell_type": "code",
   "execution_count": 62,
   "metadata": {},
   "outputs": [
    {
     "name": "stdout",
     "output_type": "stream",
     "text": [
      "NetworKit.Graph(n=12, m=12)\n"
     ]
    }
   ],
   "source": [
    "if n/3 < 5:\n",
    "    for x in range(4):\n",
    "        G.removeEdge(x%(n/3), (x + 1)%(n/3))\n",
    "        try:\n",
    "            edgelist.remove([x%(n/3), (x + 1)%(n/3)])\n",
    "        except:\n",
    "            edgelist.remove([(x + 1)%(n/3), x%(n/3)])\n",
    "    G.removeEdge(1,3)\n",
    "    edgelist.remove([1,3])\n",
    "else:\n",
    "    for x in range(5):\n",
    "        G.removeEdge(x % (n/3), (x + 1) % (n/3))\n",
    "        try:\n",
    "            edgelist.remove([x % (n/3), (x + 1) % (n/3)])\n",
    "        except:\n",
    "            edgelist.remove([(x + 1) % (n/3), x%(n/3)])\n",
    "\n",
    "if n/3 < 5:\n",
    "    for x in range(n-1, n-5, -1):\n",
    "        G.removeEdge(x % (n/3) + (n/3*2), (x + 1) % (n/3) + (n/3*2))\n",
    "        try:\n",
    "            edgelist.remove([x % (n/3) + (n/3*2), (x + 1) % (n/3) + (n/3*2)])\n",
    "        except:\n",
    "            edgelist.remove([(x + 1) % (n/3) + (n/3*2), x % (n/3) + (n/3*2)])\n",
    "    G.removeEdge(9,11)\n",
    "    edgelist.remove([9,11])\n",
    "else:\n",
    "    for x in range(5):\n",
    "        G.removeEdge(x % (n/3) + (n/3*2), (x + 1) % (n/3) + (n/3*2))\n",
    "        try:\n",
    "            edgelist.remove([x % (n/3) + (n/3*2), (x + 1) % (n/3) + (n/3*2)])\n",
    "        except:\n",
    "            edgelist.remove([(x + 1) % (n/3) + (n/3*2), x % (n/3) + (n/3*2)])\n",
    "\n",
    "print(G)\n",
    "\n",
    "#Visualization of the graph\n",
    "#Web(edgelist).show()"
   ]
  },
  {
   "cell_type": "code",
   "execution_count": 63,
   "metadata": {},
   "outputs": [
    {
     "name": "stdout",
     "output_type": "stream",
     "text": [
      "----  ----  ----  ----  ----  ----  ----  ----  ----  ----  ----  ----\n",
      "0.00  2.00  0.75  5.75  4.75  3.75  2.75  1.75  0.75  3.00  1.00  6.75\n",
      "2.00  0.00  1.75  6.75  5.75  4.75  3.75  2.75  1.75  1.00  1.00  7.75\n",
      "0.75  1.75  0.00  6.00  5.00  4.00  3.00  2.00  1.00  2.75  0.75  7.00\n",
      "5.75  6.75  6.00  0.00  1.00  2.00  3.00  4.00  5.00  7.75  5.75  1.00\n",
      "4.75  5.75  5.00  1.00  0.00  1.00  2.00  3.00  4.00  6.75  4.75  2.00\n",
      "3.75  4.75  4.00  2.00  1.00  0.00  1.00  2.00  3.00  5.75  3.75  3.00\n",
      "2.75  3.75  3.00  3.00  2.00  1.00  0.00  1.00  2.00  4.75  2.75  4.00\n",
      "1.75  2.75  2.00  4.00  3.00  2.00  1.00  0.00  1.00  3.75  1.75  5.00\n",
      "0.75  1.75  1.00  5.00  4.00  3.00  2.00  1.00  0.00  2.75  0.75  6.00\n",
      "3.00  1.00  2.75  7.75  6.75  5.75  4.75  3.75  2.75  0.00  2.00  8.75\n",
      "1.00  1.00  0.75  5.75  4.75  3.75  2.75  1.75  0.75  2.00  0.00  6.75\n",
      "6.75  7.75  7.00  1.00  2.00  3.00  4.00  5.00  6.00  8.75  6.75  0.00\n",
      "----  ----  ----  ----  ----  ----  ----  ----  ----  ----  ----  ----\n"
     ]
    }
   ],
   "source": [
    "import tabulate\n",
    "import numpy as np\n",
    "from scipy import linalg\n",
    "from networkit.algebraic import laplacianMatrix\n",
    "\n",
    "L = laplacianMatrix(G).todense()\n",
    "M = matrix(linalg.pinv(L))\n",
    "R3 = np.zeros((G.numberOfNodes(), G.numberOfNodes()))\n",
    "for i in range(G.numberOfNodes()):\n",
    "    for j in range(G.numberOfNodes()):\n",
    "        if i!=j:\n",
    "            R3[i,j] = M[i,i] + M[j,j] -2 * M[i,j]\n",
    "\n",
    "np.savetxt(\"matrix.csv\", R3, delimiter=',', fmt=\"%f\")\n",
    "\n",
    "print(tabulate.tabulate(R3, floatfmt=\".2f\"))"
   ]
  },
  {
   "cell_type": "code",
   "execution_count": 64,
   "metadata": {},
   "outputs": [
    {
     "name": "stdout",
     "output_type": "stream",
     "text": [
      "----  ----  ----  ----  ----  ----  ----  ----  ----  ----  ----  ----\n",
      "0.00  1.61  0.33  5.34  3.61  2.24  1.23  0.58  0.29  2.43  0.51  6.18\n",
      "1.61  0.00  1.37  6.37  4.63  3.25  2.24  1.58  1.28  0.57  0.63  7.26\n",
      "0.33  1.37  0.00  5.59  3.84  2.46  1.43  0.76  0.45  2.18  0.32  6.43\n",
      "5.34  6.37  5.59  0.00  0.18  0.72  1.62  2.87  4.49  7.20  5.28  0.54\n",
      "3.61  4.63  3.84  0.18  0.00  0.18  0.72  1.62  2.87  5.51  3.58  0.83\n",
      "2.24  3.25  2.46  0.72  0.18  0.00  0.18  0.72  1.62  4.18  2.24  1.48\n",
      "1.23  2.24  1.43  1.62  0.72  0.18  0.00  0.18  0.72  3.21  1.25  2.49\n",
      "0.58  1.58  0.76  2.87  1.62  0.72  0.18  0.00  0.18  2.59  0.63  3.86\n",
      "0.29  1.28  0.45  4.49  2.87  1.62  0.72  0.18  0.00  2.34  0.37  5.59\n",
      "2.43  0.57  2.18  7.20  5.51  4.18  3.21  2.59  2.34  0.00  1.62  8.33\n",
      "0.51  0.63  0.32  5.28  3.58  2.24  1.25  0.63  0.37  1.62  0.00  6.36\n",
      "6.18  7.26  6.43  0.54  0.83  1.48  2.49  3.86  5.59  8.33  6.36  0.00\n",
      "----  ----  ----  ----  ----  ----  ----  ----  ----  ----  ----  ----\n"
     ]
    }
   ],
   "source": [
    "R3R2Sub = np.subtract(R3, R2)\n",
    "print(tabulate.tabulate(R3R2Sub, floatfmt=\".2f\"))\n",
    "np.savetxt(\"matrixR3R2Sub.csv\", R3R2Sub, delimiter=';', fmt=\"%f\")"
   ]
  },
  {
   "cell_type": "markdown",
   "metadata": {},
   "source": [
    "Werte steigen an. <br>\n",
    "Falls n klein z.B. 12 steigen die Werte stärker an als wenn n 24 ist. <br>\n",
    "Die Einfüge-Operationen haben dafür gesorgt, dass die Resistance sinkt und die Lösch-Operationen haben dafür gesorgt, dass die Resistance steigt. Je größer der Graph ist, desto geringer fällt der Anstieg aus. <br>"
   ]
  }
 ],
 "metadata": {
  "kernelspec": {
   "display_name": "Python 3 (ipykernel)",
   "language": "python",
   "name": "python3"
  },
  "language_info": {
   "codemirror_mode": {
    "name": "ipython",
    "version": 3
   },
   "file_extension": ".py",
   "mimetype": "text/x-python",
   "name": "python",
   "nbconvert_exporter": "python",
   "pygments_lexer": "ipython3",
   "version": "3.11.0"
  }
 },
 "nbformat": 4,
 "nbformat_minor": 1
}
