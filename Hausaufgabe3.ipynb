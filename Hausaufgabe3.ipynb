{
 "cells": [
  {
   "cell_type": "markdown",
   "metadata": {},
   "source": [
    "<h2>Aufgabe 7:</h2>\n",
    "\n",
    "Die Zahl der Knoten die in $d$ Schritten vom zentralen Knoten eines Cayley-Baums, mit $k$ verbundenen Knoten, erreicht werden können ist genau der Formel $\\sum_{d=1}^\\inf k(k-1)^{d-1}$ für $d \\geq 1$.\n",
    "\n",
    "Anzahl erreichbarer Knoten in $d = 1$ ; $\\sum_{d=1}^1 k(k-1)^{d-1}$ für $k = 3$ <br>\n",
    "... = $3(3-1)^{1-1}$ <br>\n",
    "... = $3*(2)^0$ <br>\n",
    "... = $3*1$ <br>\n",
    "... = $3$ <br>\n",
    "\n",
    "![image](./images/Caley-Tree-d1.png)\n",
    "\n",
    "$3=3$ ist eine wahre Aussage.\n",
    "\n",
    "<h4>Für d + 1</h4>\n",
    "Anzahl erreichbarer Knoten in $d+1$ Schritten = $\\sum_{d=1}^2 k(k-1)^{d-1}$ <br>\n",
    "Anzahl erreichbarer Knoten in $d$ Schritten + $k(k-1)^{(d+1)-1}$ = $\\sum_{d=1}^2 k(k-1)^{d-1}$ <br>\n",
    "$k(k-1)^{d-1}$ + $k(k-1)^{d+1-1}$ = $\\sum_{d=1}^2 k(k-1)^{d-1}$ <br>\n",
    "$2*k(k-1)^{d-1}$ = $k(k-1)^{d-1}$ <br>\n",
    "\n",
    "![image](./images/Caley-Tree-Conclusion.png)\n",
    "\n",
    "q.e.d."
   ]
  },
  {
   "cell_type": "markdown",
   "metadata": {},
   "source": [
    "<h2>Aufgabe 8:</h2>"
   ]
  },
  {
   "cell_type": "code",
   "execution_count": 27,
   "metadata": {
    "collapsed": true
   },
   "outputs": [
    {
     "name": "stdout",
     "output_type": "stream",
     "text": [
      "NetworKit.Graph(n=18, m=37)\n"
     ]
    }
   ],
   "source": [
    "from numpy import matrix\n",
    "import networkit as nk\n",
    "import networkx as nx\n",
    "from webweb import Web\n",
    "\n",
    "n = 18\n",
    "\n",
    "if n % 3 != 0 and n < 9:\n",
    "    exit(-1)\n",
    "\n",
    "G: nk.Graph = nk.Graph(n)\n",
    "\n",
    "edgelist = []\n",
    "edgelistSub1 = []\n",
    "edgelistSub2 = []\n",
    "edgelistSub3 = []\n",
    "\n",
    "for i in range(0, int(n / 3)):\n",
    "    for j in range(i + 1, int(n / 3)):\n",
    "        G.addEdge(i, j)\n",
    "        edgelist.append([i,j])\n",
    "\n",
    "for i in range(int(n / 3 - 1), int(n / 3 * 2)):\n",
    "    G.addEdge(i, i+1)\n",
    "    edgelist.append([i,i+1])\n",
    "\n",
    "for i in range(int(n / 3 * 2), n):\n",
    "    for j in range(i + 1, n):\n",
    "        G.addEdge(i, j)\n",
    "        edgelist.append([i,j])\n",
    "\n",
    "print(G)\n",
    "\n",
    "#Visualization of the graph\n",
    "#Web(edgelist).show()"
   ]
  },
  {
   "cell_type": "code",
   "execution_count": null,
   "outputs": [],
   "source": [],
   "metadata": {
    "collapsed": false
   }
  }
 ],
 "metadata": {
  "kernelspec": {
   "display_name": "Python 3 (ipykernel)",
   "language": "python",
   "name": "python3"
  },
  "language_info": {
   "codemirror_mode": {
    "name": "ipython",
    "version": 3
   },
   "file_extension": ".py",
   "mimetype": "text/x-python",
   "name": "python",
   "nbconvert_exporter": "python",
   "pygments_lexer": "ipython3",
   "version": "3.11.0"
  }
 },
 "nbformat": 4,
 "nbformat_minor": 1
}
