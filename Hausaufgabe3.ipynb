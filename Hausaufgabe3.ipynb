{
 "cells": [
  {
   "cell_type": "markdown",
   "source": [
    "<h2>Aufgabe 7:</h2>\n",
    "\n",
    "Die Zahl der Knoten die in $d$ Schritten vom zentralen Knoten eines Cayley-Baums, mit $k$ verbundenen Knoten, erreicht werden können ist genau der Formel $\\sum_{d=1}^\\inf k(k-1)^{d-1}$ für $d \\geq 1$.\n",
    "\n",
    "Anzahl erreichbarer Knoten in $d = 1$ ; $\\sum_{d=1}^1 k(k-1)^{d-1}$ für $k = 3$ <br>\n",
    "... = $3(3-1)^{1-1}$ <br>\n",
    "... = $3*(2)^0$ <br>\n",
    "... = $3*1$ <br>\n",
    "... = $3$ <br>\n",
    "\n",
    "![image](./images/Caley-Tree-d1.png)\n",
    "\n",
    "$3=3$ ist eine wahre Aussage.\n",
    "\n",
    "<h4>Für d + 1</h4>\n",
    "Anzahl erreichbarer Knoten in $d+1$ Schritten = $\\sum_{d=1}^2 k(k-1)^{d-1}$ <br>\n",
    "Anzahl erreichbarer Knoten in $d$ Schritten + $k(k-1)^{(d+1)-1}$ = $\\sum_{d=1}^2 k(k-1)^{d-1}$ <br>\n",
    "$k(k-1)^{d-1}$ + $k(k-1)^{d+1-1}$ = $\\sum_{d=1}^2 k(k-1)^{d-1}$ <br>\n",
    "$2*k(k-1)^{d-1}$ = $k(k-1)^{d-1}$\n",
    "\n",
    "![image](./images/Caley-Tree-Conclusion.png)\n",
    "\n",
    "q.e.d.\n"
   ],
   "metadata": {
    "collapsed": false
   }
  },
  {
   "cell_type": "markdown",
   "source": [
    "<h2>Aufgabe 8:</h2>"
   ],
   "metadata": {
    "collapsed": false
   }
  },
  {
   "cell_type": "code",
   "execution_count": 6,
   "metadata": {
    "collapsed": true
   },
   "outputs": [
    {
     "name": "stdout",
     "output_type": "stream",
     "text": [
      "24\n"
     ]
    }
   ],
   "source": []
  }
 ],
 "metadata": {
  "kernelspec": {
   "display_name": "Python 3",
   "language": "python",
   "name": "python3"
  },
  "language_info": {
   "codemirror_mode": {
    "name": "ipython",
    "version": 2
   },
   "file_extension": ".py",
   "mimetype": "text/x-python",
   "name": "python",
   "nbconvert_exporter": "python",
   "pygments_lexer": "ipython2",
   "version": "2.7.6"
  }
 },
 "nbformat": 4,
 "nbformat_minor": 0
}
