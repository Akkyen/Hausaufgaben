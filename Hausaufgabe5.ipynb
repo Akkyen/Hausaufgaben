{
 "cells": [
  {
   "cell_type": "markdown",
   "source": [
    "# Aufgabe 15"
   ],
   "metadata": {
    "collapsed": false
   }
  },
  {
   "cell_type": "code",
   "execution_count": 9,
   "metadata": {
    "collapsed": true
   },
   "outputs": [
    {
     "name": "stdout",
     "output_type": "stream",
     "text": [
      "NetworKit.Graph(n=10680, m=24316)\n",
      "\n",
      "PageRank Zeit:  0.003996610641479492\n",
      "PageRank: \n",
      "Node und Score: \n",
      "6932 \t 0.003443523902405633\n",
      "7324 \t 0.003080292675160519\n",
      "7369 \t 0.00236181208004902\n",
      "6655 \t 0.0019927255937989444\n",
      "6467 \t 0.001931811579190178\n",
      "1143 \t 0.0018908215293404627\n",
      "4262 \t 0.0014404004577800483\n",
      "6555 \t 0.0013802724355373975\n",
      "6098 \t 0.0013630071626627074\n",
      "6639 \t 0.0012670072005066103\n",
      "4992 \t 0.0011759049267954349\n",
      "5121 \t 0.0011368479796538572\n",
      "6800 \t 0.001122946152744301\n",
      "7338 \t 0.001059217442653661\n",
      "604 \t 0.00099824894538117\n"
     ]
    }
   ],
   "source": [
    "import time\n",
    "%matplotlib inline\n",
    "import networkit as nk\n",
    "import numpy as np\n",
    "\n",
    "from networkit import centrality\n",
    "\n",
    "G = nk.readGraph(\"./graphs/PGPgiantcompo.graph\", nk.Format.METIS)\n",
    "\n",
    "print(G)\n",
    "print()\n",
    "\n",
    "\n",
    "pRank = nk.centrality.PageRank(G)\n",
    "T1_start = time.time()\n",
    "pRank.run()\n",
    "T1_end = time.time()\n",
    "\n",
    "\n",
    "prScores = pRank.scores()\n",
    "prHighestNodes = np.argsort(prScores)[-15 : ]\n",
    "\n",
    "\n",
    "print(\"PageRank Zeit: \", T1_end - T1_start)\n",
    "\n",
    "print(\"PageRank: \\nNode und Score: \")\n",
    "\n",
    "for x in reversed(prHighestNodes):\n",
    "    print(x, \"\\t\", prScores[x])"
   ]
  },
  {
   "cell_type": "code",
   "execution_count": 10,
   "outputs": [
    {
     "name": "stdout",
     "output_type": "stream",
     "text": [
      "Exakte-Betweeness Zeit:  5.089699745178223\n",
      "Betweeness: \n",
      "Node und Score: \n",
      "1143 \t 14959584.71775087\n",
      "6555 \t 11143594.965432499\n",
      "6655 \t 10907052.415731702\n",
      "7297 \t 10215676.303068673\n",
      "6932 \t 9114360.020969285\n",
      "6744 \t 7955829.359074931\n",
      "3156 \t 7543140.635215799\n",
      "6098 \t 7322737.7362134\n",
      "2258 \t 6428936.683403665\n",
      "5165 \t 5612659.940830975\n",
      "604 \t 5184346.380750285\n",
      "7324 \t 5085685.593501561\n",
      "7369 \t 5002387.598580968\n",
      "4466 \t 4869991.41578968\n",
      "5848 \t 4349679.376380431\n"
     ]
    }
   ],
   "source": [
    "betweeness = nk.centrality.Betweenness(G)\n",
    "T2_start = time.time()\n",
    "betweeness.run()\n",
    "T2_end = time.time()\n",
    "\n",
    "\n",
    "bScores = betweeness.scores()\n",
    "bHighestNodes = np.argsort(bScores)[-15 : ]\n",
    "\n",
    "\n",
    "print(\"Exakte-Betweeness Zeit: \", T2_end - T2_start)\n",
    "\n",
    "print(\"Betweeness: \\nNode und Score: \")\n",
    "\n",
    "for x in reversed(bHighestNodes):\n",
    "    print(x, \"\\t\", bScores[x])"
   ],
   "metadata": {
    "collapsed": false
   }
  },
  {
   "cell_type": "code",
   "execution_count": 18,
   "outputs": [
    {
     "name": "stdout",
     "output_type": "stream",
     "text": [
      "Schnittmenge der am besten abschneidenden Knoten beider Verfahren:  [604, 6098, 6555, 1143, 6655, 7369, 7324, 6932]\n"
     ]
    }
   ],
   "source": [
    "print(\"Schnittmenge der am besten abschneidenden Knoten beider Verfahren: \", [value for value in prHighestNodes if value in bHighestNodes])"
   ],
   "metadata": {
    "collapsed": false
   }
  },
  {
   "cell_type": "markdown",
   "source": [
    "Acht 8 Knoten beider Listen sind dieselben."
   ],
   "metadata": {
    "collapsed": false
   }
  },
  {
   "cell_type": "markdown",
   "source": [
    "## Aufgabe 15 - Teil 3\n",
    "\n",
    "Die Zeitkomplexität eines ungewichteten Graphens für Brandes Algorithmus ist O(nm) dabei ist n die Anzahl der Nodes und m die Anzahl der Edges.\n",
    "Setzt man die Werte des akutellen Graphen für die Formel ein so erhält man ungefähr 259.694.880.\n",
    "Setzt man die Werte des imaginären Graphen ein so erhält man ungefähr 1.800.000.000.000.000.\n",
    "1.800.000.000.000.000 geteilt durch 259.694.880 ergibt ungefähr 6.931.210, daher kann man davon ausgehen, dass die Berechnung des imaginären Graphen ungefähr 6.931.210 mal so lange dauern würde, dies würde zirka 320 Tage dauern.\n",
    "Diese Angabe ist mit großer Vorsicht zu genießen, da bei größeren Datenmengen auch längere Zugriffszeiten auf zwischengespeicherte Informationen mit einhergehen würde, daher würde beim imaginären Graphen wahrscheinlich nochmal 20-30% draufgerechnet werden müssen.\n",
    "Diese Angabe ist nur basierend auf der Hardware meines Rechners und könnte möglicherweise von einem anderen Rechner schneller oder langsamer berechnet werden."
   ],
   "metadata": {
    "collapsed": false
   }
  }
 ],
 "metadata": {
  "kernelspec": {
   "display_name": "Python 3",
   "language": "python",
   "name": "python3"
  },
  "language_info": {
   "codemirror_mode": {
    "name": "ipython",
    "version": 2
   },
   "file_extension": ".py",
   "mimetype": "text/x-python",
   "name": "python",
   "nbconvert_exporter": "python",
   "pygments_lexer": "ipython2",
   "version": "2.7.6"
  }
 },
 "nbformat": 4,
 "nbformat_minor": 0
}
