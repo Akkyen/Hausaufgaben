{
 "cells": [
  {
   "cell_type": "markdown",
   "source": [
    "Aufgabe 15"
   ],
   "metadata": {
    "collapsed": false
   }
  },
  {
   "cell_type": "code",
   "execution_count": 14,
   "metadata": {
    "collapsed": true
   },
   "outputs": [
    {
     "name": "stdout",
     "output_type": "stream",
     "text": [
      "PageRank: \n",
      "Node und Score: \n",
      "6932   0.003443523902405633\n",
      "7324   0.003080292675160519\n",
      "7369   0.00236181208004902\n",
      "6655   0.0019927255937989444\n",
      "6467   0.001931811579190178\n",
      "1143   0.0018908215293404627\n",
      "4262   0.0014404004577800483\n",
      "6555   0.0013802724355373975\n",
      "6098   0.0013630071626627074\n",
      "6639   0.0012670072005066103\n",
      "4992   0.0011759049267954349\n",
      "5121   0.0011368479796538572\n",
      "6800   0.001122946152744301\n",
      "7338   0.001059217442653661\n",
      "604   0.00099824894538117\n"
     ]
    }
   ],
   "source": [
    "import tabulate\n",
    "%matplotlib inline\n",
    "import matplotlib.pyplot as plt\n",
    "import networkit as nk\n",
    "import numpy as np\n",
    "\n",
    "from networkit import centrality\n",
    "\n",
    "G = nk.readGraph(\"./graphs/PGPgiantcompo.graph\", nk.Format.METIS)\n",
    "\n",
    "pRank = nk.centrality.PageRank(G)\n",
    "pRank.run()\n",
    "\n",
    "prScores = pRank.scores()\n",
    "prHighestNodes = np.argsort(prScores)[-15 : ]\n",
    "\n",
    "print(\"PageRank: \\nNode und Score: \")\n",
    "\n",
    "for x in reversed(prHighestNodes):\n",
    "    print(x, \" \", prScores[x])"
   ]
  },
  {
   "cell_type": "code",
   "execution_count": 15,
   "outputs": [
    {
     "name": "stdout",
     "output_type": "stream",
     "text": [
      "Betweeness: \n",
      "Node und Score: \n",
      "1143   0.13038084455470017\n",
      "6555   0.0989449088237309\n",
      "6655   0.09635535856236804\n",
      "7297   0.08982728301976958\n",
      "6932   0.08031219136173862\n",
      "6744   0.06953243562257695\n",
      "3156   0.06696697420085468\n",
      "6098   0.06401609134488305\n",
      "2258   0.056777395032884044\n",
      "5165   0.04964709849926686\n",
      "604   0.044841374990967436\n",
      "7369   0.04458844217474115\n",
      "7324   0.04423915399995247\n",
      "4466   0.043155156216125534\n",
      "5848   0.03733770144292097\n"
     ]
    }
   ],
   "source": [
    "betweeness = nk.centrality.ApproxBetweenness(G)\n",
    "betweeness.run()\n",
    "\n",
    "bScores = betweeness.scores()\n",
    "bHighestNodes = np.argsort(bScores)[-15 : ]\n",
    "\n",
    "print(\"Betweeness: \\nNode und Score: \")\n",
    "\n",
    "for x in reversed(bHighestNodes):\n",
    "    print(x, \" \", bScores[x])"
   ],
   "metadata": {
    "collapsed": false
   }
  },
  {
   "cell_type": "code",
   "execution_count": 18,
   "outputs": [
    {
     "name": "stdout",
     "output_type": "stream",
     "text": [
      "Schnittmenge der am besten abschneidenden Knoten beider Verfahren:  [604, 6098, 6555, 1143, 6655, 7369, 7324, 6932]\n"
     ]
    }
   ],
   "source": [
    "print(\"Schnittmenge der am besten abschneidenden Knoten beider Verfahren: \", [value for value in prHighestNodes if value in bHighestNodes])"
   ],
   "metadata": {
    "collapsed": false
   }
  },
  {
   "cell_type": "code",
   "execution_count": null,
   "outputs": [],
   "source": [
    "print(\"Schnittmenge der am besten abschneidenden Werte beider Verfahren: \", [value for value in prHighestNodes if value in bHighestNodes])"
   ],
   "metadata": {
    "collapsed": false
   }
  }
 ],
 "metadata": {
  "kernelspec": {
   "display_name": "Python 3",
   "language": "python",
   "name": "python3"
  },
  "language_info": {
   "codemirror_mode": {
    "name": "ipython",
    "version": 2
   },
   "file_extension": ".py",
   "mimetype": "text/x-python",
   "name": "python",
   "nbconvert_exporter": "python",
   "pygments_lexer": "ipython2",
   "version": "2.7.6"
  }
 },
 "nbformat": 4,
 "nbformat_minor": 0
}
